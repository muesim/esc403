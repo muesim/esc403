{
 "cells": [
  {
   "cell_type": "markdown",
   "metadata": {},
   "source": [
    "The ESC403 cluster comes with [Catherine Devlin's `%sql`-magic for IPython][1]; this allows you to run SQL queries from the IPython notebook, and intermix them with Python code.\n",
    "\n",
    "[1]: https://github.com/catherinedevlin/ipython-sql"
   ]
  },
  {
   "cell_type": "markdown",
   "metadata": {},
   "source": [
    "Before we can use the `%sql` syntax, two steps must be taken:\n",
    "\n",
    "* Load the IPython-SQL bridge code"
   ]
  },
  {
   "cell_type": "code",
   "execution_count": 1,
   "metadata": {
    "collapsed": false
   },
   "outputs": [],
   "source": [
    "%load_ext sql\n"
   ]
  },
  {
   "cell_type": "markdown",
   "metadata": {},
   "source": [
    "* Connect to an actual database; this must be the first `%sql` statement (the funny `rmurri@/lustre` syntax is correct and means \"connect to the PostGreSQL DB named `lustre` running on *this* host as user `rmurri`\"  -- please replace `rmurri` with your local user name):"
   ]
  },
  {
   "cell_type": "code",
   "execution_count": 2,
   "metadata": {
    "collapsed": false
   },
   "outputs": [
    {
     "data": {
      "text/plain": [
       "u'Connected: muesim@lustre'"
      ]
     },
     "execution_count": 2,
     "metadata": {},
     "output_type": "execute_result"
    }
   ],
   "source": [
    "%sql postgresql://muesim@/lustre\n"
   ]
  },
  {
   "cell_type": "markdown",
   "metadata": {},
   "source": [
    "Now you can run 1-line SQL queries by prefixing them with `%sql`:"
   ]
  },
  {
   "cell_type": "code",
   "execution_count": 3,
   "metadata": {
    "collapsed": false,
    "scrolled": true
   },
   "outputs": [
    {
     "name": "stdout",
     "output_type": "stream",
     "text": [
      "5 rows affected.\n"
     ]
    },
    {
     "data": {
      "text/html": [
       "<table>\n",
       "    <tr>\n",
       "        <th>usr</th>\n",
       "        <th>grp</th>\n",
       "        <th>atime</th>\n",
       "        <th>mtime</th>\n",
       "        <th>blksize</th>\n",
       "        <th>size</th>\n",
       "        <th>path</th>\n",
       "    </tr>\n",
       "    <tr>\n",
       "        <td>usr356</td>\n",
       "        <td>i5105</td>\n",
       "        <td>1360399005</td>\n",
       "        <td>1368700859</td>\n",
       "        <td>4</td>\n",
       "        <td>2248</td>\n",
       "        <td>/scratch/bioc/usr356/param/ZINC04992888.rtf</td>\n",
       "    </tr>\n",
       "    <tr>\n",
       "        <td>usr356</td>\n",
       "        <td>i5105</td>\n",
       "        <td>1360387170</td>\n",
       "        <td>1368792474</td>\n",
       "        <td>8</td>\n",
       "        <td>6640</td>\n",
       "        <td>/scratch/bioc/usr356/param/ZINC71832434.prm</td>\n",
       "    </tr>\n",
       "    <tr>\n",
       "        <td>usr356</td>\n",
       "        <td>i5105</td>\n",
       "        <td>1360416215</td>\n",
       "        <td>1368785748</td>\n",
       "        <td>8</td>\n",
       "        <td>4480</td>\n",
       "        <td>/scratch/bioc/usr356/param/ZINC71850771.prm</td>\n",
       "    </tr>\n",
       "    <tr>\n",
       "        <td>usr356</td>\n",
       "        <td>i5105</td>\n",
       "        <td>1360404430</td>\n",
       "        <td>1368792486</td>\n",
       "        <td>4</td>\n",
       "        <td>2556</td>\n",
       "        <td>/scratch/bioc/usr356/param/ZINC34729086.rtf</td>\n",
       "    </tr>\n",
       "    <tr>\n",
       "        <td>usr356</td>\n",
       "        <td>i5105</td>\n",
       "        <td>1360420861</td>\n",
       "        <td>1368774402</td>\n",
       "        <td>4</td>\n",
       "        <td>2065</td>\n",
       "        <td>/scratch/bioc/usr356/param/ZINC45891658.rtf</td>\n",
       "    </tr>\n",
       "</table>"
      ],
      "text/plain": [
       "[(u'usr356', u'i5105', 1360399005, 1368700859, 4, 2248L, u'/scratch/bioc/usr356/param/ZINC04992888.rtf'),\n",
       " (u'usr356', u'i5105', 1360387170, 1368792474, 8, 6640L, u'/scratch/bioc/usr356/param/ZINC71832434.prm'),\n",
       " (u'usr356', u'i5105', 1360416215, 1368785748, 8, 4480L, u'/scratch/bioc/usr356/param/ZINC71850771.prm'),\n",
       " (u'usr356', u'i5105', 1360404430, 1368792486, 4, 2556L, u'/scratch/bioc/usr356/param/ZINC34729086.rtf'),\n",
       " (u'usr356', u'i5105', 1360420861, 1368774402, 4, 2065L, u'/scratch/bioc/usr356/param/ZINC45891658.rtf')]"
      ]
     },
     "execution_count": 3,
     "metadata": {},
     "output_type": "execute_result"
    }
   ],
   "source": [
    "%sql select * from lustre limit 5;"
   ]
  },
  {
   "cell_type": "markdown",
   "metadata": {},
   "source": [
    "It is also possible to run multi-line (or multiple) SQL queries by using the `%%sql` syntax instead.  Note that in this case the SQL instructions *must not* be on the same line as the `%%sql` magic marker:"
   ]
  },
  {
   "cell_type": "code",
   "execution_count": null,
   "metadata": {
    "collapsed": false
   },
   "outputs": [],
   "source": [
    "%%sql\n",
    "select count(*) from lustre;\n",
    "select distinct count(usr) from lustre;\n",
    "select distinct count(grp) from lustre;"
   ]
  },
  {
   "cell_type": "markdown",
   "metadata": {},
   "source": [
    "The `%%time` magic prints the time taken to evaluate a cell (which comes handy when doing performance comparisons):"
   ]
  },
  {
   "cell_type": "code",
   "execution_count": null,
   "metadata": {
    "collapsed": false
   },
   "outputs": [],
   "source": [
    "%%time\n",
    "\n",
    "import time\n",
    "time.sleep(5)"
   ]
  },
  {
   "cell_type": "markdown",
   "metadata": {},
   "source": [
    "----"
   ]
  },
  {
   "cell_type": "markdown",
   "metadata": {},
   "source": [
    "**Note:** to keep running times low, we will be using table `lustre_sample` throughout, which contains a sample of 5% the rows of the original `lustre` table."
   ]
  },
  {
   "cell_type": "markdown",
   "metadata": {},
   "source": [
    "## 1. Is it possible to convert fields atime and mtime to PostgreSQL's TIMESTAMP type?"
   ]
  },
  {
   "cell_type": "markdown",
   "metadata": {},
   "source": [
    "Yes, it *is* possible to alter a SQL table definition after the table has been created.  Look at the documentation for the [ALTER TABLE](https://www.tutorialspoint.com/sql/sql-alter-command.htm) statement.\n",
    "\n",
    "We shall break this down into steps: (1) create a new table, (2) populate it, then (3) alter the definition and (4) fill the new column with values."
   ]
  },
  {
   "cell_type": "code",
   "execution_count": 5,
   "metadata": {
    "collapsed": false
   },
   "outputs": [
    {
     "name": "stdout",
     "output_type": "stream",
     "text": [
      "Done.\n",
      "1519053 rows affected.\n"
     ]
    },
    {
     "data": {
      "text/plain": [
       "[]"
      ]
     },
     "execution_count": 5,
     "metadata": {},
     "output_type": "execute_result"
    }
   ],
   "source": [
    "%sql drop table times\n",
    "%sql create table times as (select * from lustre_sample);"
   ]
  },
  {
   "cell_type": "code",
   "execution_count": 6,
   "metadata": {
    "collapsed": false
   },
   "outputs": [
    {
     "name": "stdout",
     "output_type": "stream",
     "text": [
      "Done.\n"
     ]
    },
    {
     "data": {
      "text/plain": [
       "[]"
      ]
     },
     "execution_count": 6,
     "metadata": {},
     "output_type": "execute_result"
    }
   ],
   "source": [
    "%sql alter table times add column atime_timestamp timestamp;"
   ]
  },
  {
   "cell_type": "code",
   "execution_count": 7,
   "metadata": {
    "collapsed": false
   },
   "outputs": [
    {
     "name": "stdout",
     "output_type": "stream",
     "text": [
      "1519053 rows affected.\n"
     ]
    },
    {
     "data": {
      "text/plain": [
       "[]"
      ]
     },
     "execution_count": 7,
     "metadata": {},
     "output_type": "execute_result"
    }
   ],
   "source": [
    "%sql update times set atime_timestamp=to_timestamp(atime);"
   ]
  },
  {
   "cell_type": "markdown",
   "metadata": {},
   "source": [
    "Show some data from the table we created::"
   ]
  },
  {
   "cell_type": "code",
   "execution_count": 8,
   "metadata": {
    "collapsed": false
   },
   "outputs": [
    {
     "name": "stdout",
     "output_type": "stream",
     "text": [
      "3 rows affected.\n"
     ]
    },
    {
     "data": {
      "text/html": [
       "<table>\n",
       "    <tr>\n",
       "        <th>atime</th>\n",
       "        <th>atime_timestamp</th>\n",
       "        <th>path</th>\n",
       "    </tr>\n",
       "    <tr>\n",
       "        <td>1382131058</td>\n",
       "        <td>2013-10-18 21:17:38</td>\n",
       "        <td>/scratch/bioc/usr25/fegs/b3s/fegscoor/fegs78/coor56.xtc</td>\n",
       "    </tr>\n",
       "    <tr>\n",
       "        <td>1374746779</td>\n",
       "        <td>2013-07-25 10:06:19</td>\n",
       "        <td>/scratch/bioc/usr25/mddock/y3ma_059/t1.sh</td>\n",
       "    </tr>\n",
       "    <tr>\n",
       "        <td>1366377914</td>\n",
       "        <td>2013-04-19 13:25:14</td>\n",
       "        <td>/scratch/bioc/usr25/soft/SuiteSparse/CAMD/Doc/docdiff</td>\n",
       "    </tr>\n",
       "</table>"
      ],
      "text/plain": [
       "[(1382131058, datetime.datetime(2013, 10, 18, 21, 17, 38), u'/scratch/bioc/usr25/fegs/b3s/fegscoor/fegs78/coor56.xtc'),\n",
       " (1374746779, datetime.datetime(2013, 7, 25, 10, 6, 19), u'/scratch/bioc/usr25/mddock/y3ma_059/t1.sh'),\n",
       " (1366377914, datetime.datetime(2013, 4, 19, 13, 25, 14), u'/scratch/bioc/usr25/soft/SuiteSparse/CAMD/Doc/docdiff')]"
      ]
     },
     "execution_count": 8,
     "metadata": {},
     "output_type": "execute_result"
    }
   ],
   "source": [
    "%sql select atime, atime_timestamp, path from times limit 3;"
   ]
  },
  {
   "cell_type": "markdown",
   "metadata": {},
   "source": [
    "## 2. Can you count the number of files in a given directory?"
   ]
  },
  {
   "cell_type": "markdown",
   "metadata": {},
   "source": [
    "Yes, using SQL's `like` string matching operator, which allows any\n",
    "part of a string to be matched by the `%` character (i.e., just like\n",
    "`*` for file names)::"
   ]
  },
  {
   "cell_type": "code",
   "execution_count": 9,
   "metadata": {
    "collapsed": false
   },
   "outputs": [
    {
     "name": "stdout",
     "output_type": "stream",
     "text": [
      "1 rows affected.\n"
     ]
    },
    {
     "data": {
      "text/html": [
       "<table>\n",
       "    <tr>\n",
       "        <th>count</th>\n",
       "    </tr>\n",
       "    <tr>\n",
       "        <td>129</td>\n",
       "    </tr>\n",
       "</table>"
      ],
      "text/plain": [
       "[(129L,)]"
      ]
     },
     "execution_count": 9,
     "metadata": {},
     "output_type": "execute_result"
    }
   ],
   "source": [
    "%sql select count(path) from lustre_sample where path like '/scratch/bioc/usr384/%'"
   ]
  },
  {
   "cell_type": "markdown",
   "metadata": {},
   "source": [
    "## 3. Can you find the directory that holds the largest number of files? "
   ]
  },
  {
   "cell_type": "code",
   "execution_count": null,
   "metadata": {
    "collapsed": false
   },
   "outputs": [],
   "source": [
    "This is possible. One way would be to split the path string into \"path\" and \"filename\", but there is no standard way to do this\n",
    "string splitting. A database will generally have a way to do this, but it will be specific to that database."
   ]
  },
  {
   "cell_type": "markdown",
   "metadata": {},
   "source": [
    "## 4. Can you find the directory tree that holds the largest number of files?"
   ]
  },
  {
   "cell_type": "markdown",
   "metadata": {
    "collapsed": true
   },
   "source": [
    "It's possible, but it becomes very complicated. This is trivial to do in the map/reduce framework. The problem is that now the string splitting does not work anymore, since we will have a hierarchy of paths. SQL in general is not well equipped to deal with hierarchies."
   ]
  }
 ],
 "metadata": {
  "kernelspec": {
   "display_name": "Python 2",
   "language": "python",
   "name": "python2"
  },
  "language_info": {
   "codemirror_mode": {
    "name": "ipython",
    "version": 2
   },
   "file_extension": ".py",
   "mimetype": "text/x-python",
   "name": "python",
   "nbconvert_exporter": "python",
   "pygments_lexer": "ipython2",
   "version": "2.7.13"
  }
 },
 "nbformat": 4,
 "nbformat_minor": 0
}
