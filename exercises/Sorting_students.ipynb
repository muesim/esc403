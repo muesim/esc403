{
 "cells": [
  {
   "cell_type": "markdown",
   "metadata": {
    "collapsed": true
   },
   "source": [
    "#   Big Data\n",
    "## Algorithms: Sorting, Recursion and Data Structures\n",
    "## Victor P. Debattista March 2017\n",
    "\n",
    "\n",
    "We are going to start with a very simple exercise in recursion just to get used to it, then implement a couple of sorting algorithms, one O(n$^2$) and one O(n log n)"
   ]
  },
  {
   "cell_type": "code",
   "execution_count": 32,
   "metadata": {
    "collapsed": false
   },
   "outputs": [],
   "source": [
    "import numpy as np\n",
    "import math\n",
    "import random\n",
    "import time"
   ]
  },
  {
   "cell_type": "markdown",
   "metadata": {},
   "source": [
    "Write a function that computes the n$^{th}$ Fibonacci number if $(F_0,F_1) = (1,1)$.  By definition a Fibonacci number is one such that $F_n = F_{n-1} + F_{n-2}$. You should use recursion to solve this problem, not a loop.\n",
    "Print the first 10 Fibonacci numbers."
   ]
  },
  {
   "cell_type": "code",
   "execution_count": 33,
   "metadata": {
    "collapsed": false
   },
   "outputs": [],
   "source": [
    "def fibonacci(n):\n",
    "    '''Computes the n-th Fibonacci number. '''\n",
    "    if n == 0 or n == 1:\n",
    "        return 1\n",
    "    else:\n",
    "        return fibonacci(n-1) + fibonacci(n-2)"
   ]
  },
  {
   "cell_type": "markdown",
   "metadata": {},
   "source": [
    "Let us start exploring sorting. In the first step we want to create a list of N numbers which we will use as our list for sorting"
   ]
  },
  {
   "cell_type": "code",
   "execution_count": 200,
   "metadata": {
    "collapsed": false
   },
   "outputs": [],
   "source": [
    "random.seed(22)\n",
    "N = 10000\n",
    "data = random.sample(range(N), N)"
   ]
  },
  {
   "cell_type": "markdown",
   "metadata": {},
   "source": [
    "Our first sorting algorithm is the insertion sort.  How would you sort the list data into another list, data2, using the insertion sort?  (We want to use a second list so we preserve our original list.  Note that swapping in Python is done easily via tuples:\n",
    "(A,B) = (B,A)\n",
    "with no need for temporary variables.)  Calculate how long this took to run."
   ]
  },
  {
   "cell_type": "code",
   "execution_count": 204,
   "metadata": {
    "collapsed": false
   },
   "outputs": [
    {
     "name": "stdout",
     "output_type": "stream",
     "text": [
      "CPU times: user 2.23 s, sys: 0 ns, total: 2.23 s\n",
      "Wall time: 2.23 s\n"
     ]
    }
   ],
   "source": [
    "%%time\n",
    "insertion_sort = data.copy()\n",
    "for i in range(N-1):\n",
    "    j = min(sorted_data[i:])\n",
    "    k = sorted_data.index(j)\n",
    "    (sorted_data[i], sorted_data[k]) = (sorted_data[k], sorted_data[i])"
   ]
  },
  {
   "cell_type": "code",
   "execution_count": 205,
   "metadata": {
    "collapsed": false
   },
   "outputs": [
    {
     "name": "stdout",
     "output_type": "stream",
     "text": [
      "[2299, 3975, 386, 7325, 3018, 1975, 5663, 1305, 3796, 4411]\n"
     ]
    }
   ],
   "source": [
    "print(insertion_sort[:10])"
   ]
  },
  {
   "cell_type": "markdown",
   "metadata": {},
   "source": [
    "In the next part we will develop the functionality of a heap.  Write a recursive function that, given a list arr, sifts up element k ensuring that a heap structure is obtained.  The function should return the list back.  Be careful with index of the parent, it must work for both daughter nodes."
   ]
  },
  {
   "cell_type": "code",
   "execution_count": 199,
   "metadata": {
    "collapsed": false
   },
   "outputs": [],
   "source": [
    "def sift_up(arr, k):\n",
    "    '''Given a list arr, sifts up element k ensuring that a heap structure is obatined.'''\n",
    "    parent_index = math.floor(0.5*(k-1))\n",
    "    if (arr[k] > arr[parent_index]) and (k > 0):\n",
    "        arr[k], arr[parent_index] = arr[parent_index], arr[k]\n",
    "        arr = sift_up(arr, parent_index)\n",
    "    return arr"
   ]
  },
  {
   "cell_type": "markdown",
   "metadata": {},
   "source": [
    "Next write a function that, given a list arr, filled to element k, inserts (pushes) a new element N to it, preserving the heap structure.  So this will need to use your sift function from above."
   ]
  },
  {
   "cell_type": "code",
   "execution_count": 161,
   "metadata": {
    "collapsed": false
   },
   "outputs": [],
   "source": [
    "def heap_insert(arr, k, N):\n",
    "    ''' Given a list arr, inserts a new element N to it while preserving the heap structure. '''\n",
    "    arr.append(N)\n",
    "    k = k + 1 # The size of the heap has to be increased\n",
    "    arr = sift_up(arr, k)\n",
    "    return arr, k"
   ]
  },
  {
   "cell_type": "markdown",
   "metadata": {},
   "source": [
    "With these two functions, given a list of numbers, turn it into a heap by building a function heapify.  This should work by pushing every element of a list onto the heap."
   ]
  },
  {
   "cell_type": "code",
   "execution_count": 158,
   "metadata": {
    "collapsed": false
   },
   "outputs": [],
   "source": [
    "def heapify(arr):\n",
    "    '''Turns a given list arr into a heap. '''\n",
    "    heap = []\n",
    "    l = -1\n",
    "    for value in arr:\n",
    "        heap, l = heap_insert(heap, l, value)\n",
    "    return heap, l"
   ]
  },
  {
   "cell_type": "markdown",
   "metadata": {
    "collapsed": true
   },
   "source": [
    "Now write a function to sift down for when we pop the maximum value off.  This is a recursive function.  Be careful about having 0 or 1 daughters and that sifting down always involve a swap with the larger of the two daughters if 2 exist."
   ]
  },
  {
   "cell_type": "code",
   "execution_count": 154,
   "metadata": {
    "collapsed": false
   },
   "outputs": [],
   "source": [
    "def sift_down(arr, k, l):\n",
    "    '''Given a list arr, sifts down element k ensuring that a heap structure is obtained. l is the last leaf'''\n",
    "    if  (2*k + 1 <= l): # Check if a node has any daughters\n",
    "        if (2*k + 2 > l): # Check if the node as one daughter\n",
    "            if heap[k] < heap[2*k+1]:\n",
    "                heap[k], heap[2*k+1] = heap[2*k+1], heap[k]\n",
    "        else: # This loop is for nodes with two daughters\n",
    "            left_daughter = (heap[2*k+1] > heap[2*k+2])\n",
    "            m = 2 # Defaults to the right daughter\n",
    "            if left == True:\n",
    "                m = 1 # Choose the left daughter instead\n",
    "            if heap[k] < heap[2*k+m]:\n",
    "                heap[k], heap[2*k+m] = heap[2*k+m], heap[k]\n",
    "                heap = sift_down(heap, 2*k+m, l)\n",
    "        return heap"
   ]
  },
  {
   "cell_type": "markdown",
   "metadata": {},
   "source": [
    "Now add a function to pop the maximum value.  Remember that when popping the root, it will be replaced by the furthest leaf, which is then sifted down.  Return both the heap and its size."
   ]
  },
  {
   "cell_type": "code",
   "execution_count": 136,
   "metadata": {
    "collapsed": false
   },
   "outputs": [],
   "source": [
    "def heap_pop(heap, l):\n",
    "    '''Pops the maximum value in a heap (root), replacing it with the furthest leaf l, which is then sifted down. The\n",
    "    root is put at the end of the list. Returns the heap and its size. '''\n",
    "    heap[l], heap[0] = heap[0], heap[l]\n",
    "    l = l - 1\n",
    "    heap = sift_down(heap, 0, l)\n",
    "    return heap, l"
   ]
  },
  {
   "cell_type": "markdown",
   "metadata": {},
   "source": [
    "We have all the building blocks in place for a heap sort, so let's write that next.  We start by creating the heap, then repeatedly popping the heap, placing the popped items at the tail of the list that holds the heap.  I.e. we are going to sort the list in place, needing no extra storage."
   ]
  },
  {
   "cell_type": "code",
   "execution_count": 151,
   "metadata": {
    "collapsed": false
   },
   "outputs": [],
   "source": [
    "def heap_sort(arr):\n",
    "    '''Heap sort algorithm. Sorts a given list arr. '''\n",
    "    heap, l = heapify(arr)\n",
    "    for i in range(N-1, 0, -1):\n",
    "        heap, l = heap_pop(heap, i)\n",
    "    return heap"
   ]
  },
  {
   "cell_type": "code",
   "execution_count": 203,
   "metadata": {
    "collapsed": false
   },
   "outputs": [
    {
     "name": "stdout",
     "output_type": "stream",
     "text": [
      "CPU times: user 127 ms, sys: 4 ms, total: 131 ms\n",
      "Wall time: 131 ms\n"
     ]
    }
   ],
   "source": [
    "%%time\n",
    "heap_sorted = heap_sort(data)"
   ]
  },
  {
   "cell_type": "code",
   "execution_count": 194,
   "metadata": {
    "collapsed": false
   },
   "outputs": [
    {
     "name": "stdout",
     "output_type": "stream",
     "text": [
      "[0, 1, 2, 3, 4, 5, 6, 7, 8, 9]\n"
     ]
    }
   ],
   "source": [
    "print(heap_sorted[:10])"
   ]
  },
  {
   "cell_type": "code",
   "execution_count": 223,
   "metadata": {
    "collapsed": false
   },
   "outputs": [
    {
     "name": "stdout",
     "output_type": "stream",
     "text": [
      "CPU times: user 3.41 ms, sys: 0 ns, total: 3.41 ms\n",
      "Wall time: 3.34 ms\n"
     ]
    }
   ],
   "source": [
    "%%time\n",
    "'''Lets see how quickly python does it. '''\n",
    "python_sort = sorted(data)"
   ]
  },
  {
   "cell_type": "markdown",
   "metadata": {},
   "source": [
    "Let's now do a bin sort.  Now we're going to be a bit looser with this and directly use some of Python's sorting methods.  Start by writing a simple function that, given a value which is within a given range [lo,hi], finds the bin to place the element into if there are N bins.  If the value is out of range some flag value should be returned."
   ]
  },
  {
   "cell_type": "code",
   "execution_count": 208,
   "metadata": {
    "collapsed": true
   },
   "outputs": [],
   "source": [
    "def bin_index(val, low, high, N):\n",
    "    '''Finds the bin to place an element if there are N bins. If the value is outside the range [low, high] returns\n",
    "    -1 as a flag value.'''\n",
    "    if (val < low) or (val > high):\n",
    "        return -1\n",
    "    else:\n",
    "        tmp = (val - low) * N/(high - low)\n",
    "        return int(tmp)"
   ]
  },
  {
   "cell_type": "markdown",
   "metadata": {
    "collapsed": true
   },
   "source": [
    "In this final step we do a bin sort.  This is a bit more complicated.  The way to do this is to have a list of lists.  You can directly use Python's .sort method for lists, since this is purely illustrative.  Or you can use your heapsort from before if your code was general enough."
   ]
  },
  {
   "cell_type": "code",
   "execution_count": 221,
   "metadata": {
    "collapsed": false
   },
   "outputs": [],
   "source": [
    "bin_sorted = data.copy()\n",
    "nbins = 100\n",
    "def bin_sort(arr, low, high, nbins):\n",
    "    '''Bin sort algorithm. '''\n",
    "    mlist = [] # Create an empty list of buckets\n",
    "    for i in range(nbins):\n",
    "        mlist.append([])\n",
    "    for val in arr: # Populate the buckets\n",
    "        i = bin_index(val, low, high, nbins)\n",
    "        if i>= 0: # Ignore out of range values\n",
    "            mlist[i].append(val)\n",
    "    for i in range(nbins): # Sort the buckets\n",
    "        if len(mlist[i]) > 1: # Don't sort bins that only contain one item\n",
    "            mlist[i] = sorted(mlist[i])\n",
    "    sorted_list = [c for v in mlist for c in v] # Flatten the list of lists\n",
    "    return sorted_list"
   ]
  },
  {
   "cell_type": "code",
   "execution_count": 222,
   "metadata": {
    "collapsed": false
   },
   "outputs": [
    {
     "name": "stdout",
     "output_type": "stream",
     "text": [
      "CPU times: user 9.42 ms, sys: 0 ns, total: 9.42 ms\n",
      "Wall time: 9.4 ms\n"
     ]
    }
   ],
   "source": [
    "%%time\n",
    "bin_sorted = bin_sort(data, 0, N, nbins)"
   ]
  },
  {
   "cell_type": "code",
   "execution_count": 220,
   "metadata": {
    "collapsed": false
   },
   "outputs": [
    {
     "name": "stdout",
     "output_type": "stream",
     "text": [
      "[0, 1, 2, 3, 4, 5, 6, 7, 8, 9]\n"
     ]
    }
   ],
   "source": [
    "print(bin_sorted[:10])"
   ]
  },
  {
   "cell_type": "markdown",
   "metadata": {
    "collapsed": true
   },
   "source": [
    "Consider the quicksort.  Suppose it is given a sorted list.  If the pivot is always the leftmost value, what happens?  Suggest a solution.  You do not need to code this up."
   ]
  }
 ],
 "metadata": {
  "anaconda-cloud": {},
  "kernelspec": {
   "display_name": "Python 3",
   "language": "python",
   "name": "python3"
  },
  "language_info": {
   "codemirror_mode": {
    "name": "ipython",
    "version": 3
   },
   "file_extension": ".py",
   "mimetype": "text/x-python",
   "name": "python",
   "nbconvert_exporter": "python",
   "pygments_lexer": "ipython3",
   "version": "3.6.0"
  }
 },
 "nbformat": 4,
 "nbformat_minor": 1
}
