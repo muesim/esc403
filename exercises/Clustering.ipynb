{
 "cells": [
  {
   "cell_type": "markdown",
   "metadata": {},
   "source": [
    "# Practical examples on clustering techniques"
   ]
  },
  {
   "cell_type": "markdown",
   "metadata": {},
   "source": [
    "**Exercise session held on May 27, 2017.**\n"
   ]
  },
  {
   "cell_type": "markdown",
   "metadata": {},
   "source": [
    "----"
   ]
  },
  {
   "cell_type": "markdown",
   "metadata": {},
   "source": [
    "## Graphics and plotting"
   ]
  },
  {
   "cell_type": "code",
   "execution_count": 5,
   "metadata": {
    "collapsed": true
   },
   "outputs": [],
   "source": [
    "# This line configures matplotlib to show figures embedded in the notebook, \n",
    "# instead of opening a new window for each figure. \n",
    "%matplotlib inline\n",
    "import matplotlib\n",
    "import matplotlib.pyplot as plt\n",
    "\n",
    "# general graphics settings\n",
    "matplotlib.style.use('ggplot')\n",
    "matplotlib.rcParams['figure.figsize'] = (16, 9)"
   ]
  },
  {
   "cell_type": "markdown",
   "metadata": {},
   "source": [
    "----"
   ]
  },
  {
   "cell_type": "markdown",
   "metadata": {},
   "source": [
    "The goal is to compare the performances of a partitioning algorithm against a density-based clustering method. In particular we will see in details two methods: the k-mean and Density-Peaks clustering algorithms (discussed in class). \n",
    "Examples of real-world data set can be taken from the [UCI Machine Learning Repository][1]. The dataset investigated can be downloaded at [Artificial datasets][2]. \n",
    "\n",
    "[1]: http://archive.ics.uci.edu/ml\n",
    "[2]: http://cs.uef.fi/sipu/datasets/\n"
   ]
  },
  {
   "cell_type": "markdown",
   "metadata": {},
   "source": [
    "# k-Means Algorithm"
   ]
  },
  {
   "cell_type": "markdown",
   "metadata": {},
   "source": [
    "In the following we will assign a cluster label on each data point by means of k-mean clustering algorithm. K-means is a clustering method that aims to find the position of the centroids that minimize the square of the distance from the data points to the centroid.\n",
    "\n",
    "Outline of the exercise:\n",
    " * Program from scratch the clustering algorithm k-means\n",
    " * Download the data set [Aggregation][3]\n",
    " * Apply the algorithm with k=7 and plot the final assignation.\n",
    "\n",
    "[3]: http://cs.uef.fi/sipu/datasets/\n"
   ]
  },
  {
   "cell_type": "markdown",
   "metadata": {},
   "source": [
    "a) Read the data set Aggregation and decide the number of clusters: \n"
   ]
  },
  {
   "cell_type": "code",
   "execution_count": 6,
   "metadata": {
    "collapsed": false
   },
   "outputs": [],
   "source": [
    "# Import the NumPy package for numerical routines \n",
    "# and the random package for rundom number generation. \n",
    "import numpy as np \n",
    "import random as rand \n",
    "\n",
    "data = np.genfromtxt('Aggregation.txt')\n",
    "npoints = len(data[:,0])\n",
    "\n",
    "x = data[:,0]\n",
    "y = data[:,1]\n",
    "\n",
    "k = 7"
   ]
  },
  {
   "cell_type": "markdown",
   "metadata": {},
   "source": [
    "b) Initialize the position of the centroids:\n",
    "\n",
    "Random centroids (set the positions of the k centroids to k observations chosen randomly from the dataset).\n"
   ]
  },
  {
   "cell_type": "code",
   "execution_count": 7,
   "metadata": {
    "collapsed": true
   },
   "outputs": [],
   "source": [
    "C_x = np.zeros(k)\n",
    "C_y = np.zeros(k)\n",
    "i_C = np.zeros(npoints)\n",
    "\n",
    "# Random centroids\n",
    "for r in range(k):\n",
    "    index = rand.randrange(npoints)\n",
    "    while(i_C[index]!=0):\n",
    "        index = rand.randrange(npoints)\n",
    "    C_x[r] = x[index]\n",
    "    C_y[r] = y[index]\n",
    "    i_C[index] = 1\n"
   ]
  },
  {
   "cell_type": "markdown",
   "metadata": {},
   "source": [
    "c) Assign each point to the closest centroid and update the position of the centroids to the mean of all data points belonging to the cluster. Repeat until convergence:\n"
   ]
  },
  {
   "cell_type": "code",
   "execution_count": 8,
   "metadata": {
    "collapsed": false
   },
   "outputs": [
    {
     "name": "stdout",
     "output_type": "stream",
     "text": [
      "9.0\n"
     ]
    }
   ],
   "source": [
    "C_new = np.zeros(npoints, dtype = int)\n",
    "distance = np.zeros(k)\n",
    "N_iter = 0.0\n",
    "iterate = True\n",
    "\n",
    "while(iterate):\n",
    "    N_iter += 1\n",
    "    iterate = False\n",
    "    # assign each point to the same cluster of the closest centroid\n",
    "    for n in range(npoints):\n",
    "        C_old = C_new[n]     \n",
    "        # - find the cluster of the closest centroid (Euclidean distance)\n",
    "        # - update C_new[n] \n",
    "        for j in range(k):\n",
    "            distance[j] = np.sqrt( (x[n]-C_x[j])**2 + (y[n]-C_y[j])**2 )\n",
    "        C_new[n] = np.argmin(distance)\n",
    "\n",
    "        if(C_new[n] != C_old ):\n",
    "               iterate = True\n",
    "\n",
    "    # update the centroid position\n",
    "    for i in range(k):\n",
    "        N_i = 0\n",
    "        C_x[i] = 0.0\n",
    "        C_y[i] = 0.0        \n",
    "        # - each coordinate is the arithmetic mean of the coordinates of all the points in cluster i\n",
    "        for m in range(npoints):\n",
    "            if(C_new[m] == i):\n",
    "                    C_x[i] += x[m]\n",
    "                    C_y[i] += y[m]\n",
    "                    N_i += 1\n",
    "        C_x[i] = C_x[i] / N_i\n",
    "        C_y[i] = C_y[i] / N_i\n",
    "\n",
    "print (N_iter)\n"
   ]
  },
  {
   "cell_type": "markdown",
   "metadata": {},
   "source": [
    "d) Compute the Objective function as the sum of squared distances of each point to the centroid of the cluster to which has been assigned:\n"
   ]
  },
  {
   "cell_type": "code",
   "execution_count": 5,
   "metadata": {
    "collapsed": false
   },
   "outputs": [
    {
     "name": "stdout",
     "output_type": "stream",
     "text": [
      "12098.0811311\n"
     ]
    }
   ],
   "source": [
    "# Objective function\n",
    "Obj = 0.0\n",
    "for i in range(k):\n",
    "     for n in range(npoints):\n",
    "        if(C_new[n] == i):\n",
    "             Obj += ((x[n]-C_x[i])**2 + (y[n]-C_y[i])**2 )\n",
    "\n",
    "print  (Obj)\n"
   ]
  },
  {
   "cell_type": "markdown",
   "metadata": {},
   "source": [
    "e) Print the final partition to file:\n"
   ]
  },
  {
   "cell_type": "code",
   "execution_count": 6,
   "metadata": {
    "collapsed": false
   },
   "outputs": [],
   "source": [
    "# Output to file\n",
    "with open('cluster.dat', 'w') as f:\n",
    "     for i in range(npoints):\n",
    "         f.write(\"%f %f %d\\n\" % (x[i], y[i], C_new[i]))\n"
   ]
  },
  {
   "cell_type": "markdown",
   "metadata": {},
   "source": [
    "f) Plot the final clustering result:"
   ]
  },
  {
   "cell_type": "code",
   "execution_count": 7,
   "metadata": {
    "collapsed": false
   },
   "outputs": [
    {
     "data": {
      "image/png": "[encoded data removed]",
      "text/plain": [
       "<matplotlib.figure.Figure at 0x7f09ad652a20>"
      ]
     },
     "metadata": {},
     "output_type": "display_data"
    }
   ],
   "source": [
    "# color each point depending on the assigned cluster\n",
    "\n",
    "color_list = plt.cm.Set1(np.linspace(0, 1, k+1))\n",
    "\n",
    "for c in np.unique(C_new):\n",
    "    cluster = (C_new == c)\n",
    "    plt.scatter(x[cluster], y[cluster], color=color_list[c])"
   ]
  },
  {
   "cell_type": "markdown",
   "metadata": {},
   "source": [
    "If you repeat the algorithm many times (i.e. 100 times), the result that minimizes the intra-cluster variance (minimum Objective function) corresponds to the best assignation. How does the final partition for the best case looks like?\n"
   ]
  },
  {
   "cell_type": "markdown",
   "metadata": {},
   "source": [
    "(Optional) Perform the Scree Plot (with k from 2 to 20) for this data set using the best value of the Objective function found after running a large number of iterations.\n",
    "The Scree Plot is an empirical way to find the best number of clusters."
   ]
  },
  {
   "cell_type": "markdown",
   "metadata": {},
   "source": [
    "# Density Peaks Algorithm"
   ]
  },
  {
   "cell_type": "markdown",
   "metadata": {},
   "source": [
    "The basic idea is that cluster centers are characterized by a higher density than their neighbors and by a relatively large distance from points with higher densities.\n",
    "Clusters are recognized regardless of their shape.\n",
    "\n",
    "Outline of the exercise:\n",
    "\n",
    " * Program from scratch the density peaks algorithm\n",
    " * Apply the algorithm with dc=2.3\n",
    " * Plot the clustering result and compare it to the one previously obtained by the k-means algorithm.\n"
   ]
  },
  {
   "cell_type": "markdown",
   "metadata": {},
   "source": [
    "a) Read the data set Aggregation and set the number of the cutoff distance dc that will be used to define a neighborhood region around each point: \n"
   ]
  },
  {
   "cell_type": "code",
   "execution_count": 8,
   "metadata": {
    "collapsed": false
   },
   "outputs": [],
   "source": [
    "data = np.loadtxt('Aggregation.txt')\n",
    "npoints = data.shape[0]\n",
    "x = data[:,0]\n",
    "y = data[:,1]\n",
    "\n",
    "dc = 2.3\n",
    "DcSquared = dc*dc\n"
   ]
  },
  {
   "cell_type": "markdown",
   "metadata": {},
   "source": [
    "b) Compute the local density of each  data point i as the number of points that are closer than dc to the point i: \n"
   ]
  },
  {
   "cell_type": "code",
   "execution_count": 9,
   "metadata": {
    "collapsed": true
   },
   "outputs": [],
   "source": [
    "Density = np.zeros(npoints)\n",
    "Delta = np.zeros(npoints)\n",
    "Dmax = 0.\n",
    "\n",
    "# compute densities\n",
    "for i in np.arange(npoints):\n",
    "    for j in np.arange(i+1, npoints):\n",
    "        d = ((x[i]-x[j])**2+(y[i]-y[j])**2)\n",
    "\n",
    "        # - if d is less than DcSquared, increment Density[i] and Density[j] by 1\n",
    "        if d <= DcSquared:\n",
    "            Density[i] += 1\n",
    "            Density[j] += 1\n",
    "        if d > Dmax:\n",
    "            Dmax = d\n",
    "\n",
    "SortedDensity = Density.argsort()[::-1]\n"
   ]
  },
  {
   "cell_type": "markdown",
   "metadata": {},
   "source": [
    "c) Calculate Delta for each point i by computing the minimum distance between the point i and any other point with higher density: \n"
   ]
  },
  {
   "cell_type": "code",
   "execution_count": 10,
   "metadata": {
    "collapsed": false
   },
   "outputs": [],
   "source": [
    "# compute Delta as the distance from the point of higher density\n",
    "NearestDense = np.zeros(npoints, dtype = int)\n",
    "\n",
    "# Note: we loop over points ordered for decreasing density\n",
    "for i in np.arange(1, npoints):\n",
    "    dmin = Dmax\n",
    "    NearestIndex = 0\n",
    "    for j in np.arange(i):\n",
    "        dtmp = ((x[SortedDensity[i]]-x[SortedDensity[j]])**2+(y[SortedDensity[i]]-y[SortedDensity[j]])**2)\n",
    "        if dtmp <= dmin:\n",
    "            dmin = dtmp\n",
    "            NearestIndex = j\n",
    "\n",
    "    Delta[i] = np.sqrt(dmin)\n",
    "    NearestDense[i] = NearestIndex\n",
    "\n",
    "# set an arbitrary Delta for the densiest point in the data set\n",
    "Delta[0] = Delta.max()*1.1\n"
   ]
  },
  {
   "cell_type": "markdown",
   "metadata": {},
   "source": [
    "Note that Delta is much larger than the typical nearest neighbor distance only for points that are local or global maxima in the density.\n",
    "\n",
    "d) Plot Delta as a function of the density for each point, known as Decision Graph:\n"
   ]
  },
  {
   "cell_type": "code",
   "execution_count": 11,
   "metadata": {
    "collapsed": false
   },
   "outputs": [
    {
     "data": {
      "image/png": "[encoded data removed]",
      "text/plain": [
       "<matplotlib.figure.Figure at 0x7f09ab6142e8>"
      ]
     },
     "metadata": {},
     "output_type": "display_data"
    }
   ],
   "source": [
    "# plot the Decision-Graph: Density VS Delta\n",
    "plt.figure()\n",
    "for i in range(npoints):\n",
    "    plt.plot(Density[SortedDensity[i]], Delta[i], 'b.')\n",
    "plt.show()\n"
   ]
  },
  {
   "cell_type": "markdown",
   "metadata": {},
   "source": [
    "e) Cluster centers are recognized as points for which the value of Delta is large and relatively high density: \n"
   ]
  },
  {
   "cell_type": "code",
   "execution_count": 12,
   "metadata": {
    "collapsed": false
   },
   "outputs": [
    {
     "name": "stdout",
     "output_type": "stream",
     "text": [
      "[[ 18.65   4.75   4.  ]\n",
      " [ 31.95  19.1    6.  ]\n",
      " [  6.75   3.2    5.  ]\n",
      " [  7.1   11.95   7.  ]\n",
      " [  7.4   25.45   2.  ]\n",
      " [ 21.    22.6    1.  ]\n",
      " [ 32.95  11.15   3.  ]]\n",
      "[ 38.  33.  33.  31.  29.  29.  28.]\n",
      "[ 16.14013398  14.67284908   7.04343666   6.30971473  13.50333292\n",
      "  10.90802457   7.20850192]\n",
      "7\n"
     ]
    }
   ],
   "source": [
    "# take the cut values for the Density and Delta to select centers\n",
    "RhoTh = 25.\n",
    "DeltaTh = 6.\n",
    "\n",
    "Centers = np.where(np.logical_and((Delta >= DeltaTh),(np.sort(Density)[::-1] >= RhoTh)))\n",
    "print(data[SortedDensity[Centers]])\n",
    "print(Density[SortedDensity[Centers]])\n",
    "print(Delta[Centers])\n",
    "NCenters = len(data[SortedDensity[Centers]])\n",
    "print(NCenters)\n"
   ]
  },
  {
   "cell_type": "markdown",
   "metadata": {},
   "source": [
    "f) After the cluster centers have been found, each remaining point is assigned to the same cluster as its nearest neighbor of higher density: \n"
   ]
  },
  {
   "cell_type": "code",
   "execution_count": 13,
   "metadata": {
    "collapsed": true
   },
   "outputs": [],
   "source": [
    "# assign points to clusters in the order of sorted density\n",
    "# assign the centers first\n",
    "Assign = np.zeros(npoints, dtype = int)\n",
    "for j in range(NCenters):\n",
    "    Assign[SortedDensity[Centers[0][j]]] = j + 1\n",
    "\n",
    "# assing to the point of highest density among those already assigned\n",
    "for j in np.arange(npoints):\n",
    "    if Assign[SortedDensity[j]] < 1:\n",
    "        Assign[SortedDensity[j]] = Assign[SortedDensity[NearestDense[j]]]\n",
    "\n",
    "# output to file\n",
    "with open('cluster_DP.dat', 'w') as f:\n",
    "    for i in range(npoints):\n",
    "        f.write(\"%f %f %d\\n\" % (x[i], y[i], Assign[i]))\n"
   ]
  },
  {
   "cell_type": "markdown",
   "metadata": {},
   "source": [
    "Note that the cluster assignment is performed in a single step: no Objective function is optimezed iteratively. \n",
    "\n",
    "g) Plot the final clustering results:\n"
   ]
  },
  {
   "cell_type": "code",
   "execution_count": 14,
   "metadata": {
    "collapsed": false
   },
   "outputs": [
    {
     "data": {
      "image/png": "[encoded data removed]",
      "text/plain": [
       "<matplotlib.figure.Figure at 0x7f09aabb5828>"
      ]
     },
     "metadata": {},
     "output_type": "display_data"
    }
   ],
   "source": [
    "# color each point depending on the assigned cluster\n",
    "\n",
    "color_list = plt.cm.Set1(np.linspace(0, 1, NCenters+1))\n",
    "\n",
    "for c in np.unique(Assign):\n",
    "    cluster = (Assign == c)\n",
    "    plt.scatter(x[cluster], y[cluster], color=color_list[c])"
   ]
  },
  {
   "cell_type": "markdown",
   "metadata": {},
   "source": [
    "# Clustering evaluation"
   ]
  },
  {
   "cell_type": "markdown",
   "metadata": {},
   "source": [
    "We will use the Normalized Mutual Information scores for the two algorithms to compare their clustering result against the known ground truth classification.\n",
    "It is based on the concept of entropy as a measure of uncertainty associated to a clustering partition or ground truth classification.\n",
    "Using the formula shown in the theoretical part of the lesson we find:\n",
    "\n",
    "NMI for k-mean result: 0.84\n",
    "\n",
    "NMI for Density Peaks result: 0.99\n"
   ]
  },
  {
   "cell_type": "code",
   "execution_count": 15,
   "metadata": {
    "collapsed": false
   },
   "outputs": [
    {
     "data": {
      "text/plain": [
       "0.84964046681213434"
      ]
     },
     "execution_count": 15,
     "metadata": {},
     "output_type": "execute_result"
    }
   ],
   "source": [
    "from sklearn.metrics.cluster import normalized_mutual_info_score as NMI\n",
    "\n",
    "# NMI for k-mean result C_new:\n",
    "NMI(data[:,2],C_new)"
   ]
  },
  {
   "cell_type": "code",
   "execution_count": 16,
   "metadata": {
    "collapsed": false
   },
   "outputs": [
    {
     "data": {
      "text/plain": [
       "0.98839767516668942"
      ]
     },
     "execution_count": 16,
     "metadata": {},
     "output_type": "execute_result"
    }
   ],
   "source": [
    "# NMI for Density Peaks result Assign:\n",
    "NMI(data[:,2],Assign)"
   ]
  }
 ],
 "metadata": {
  "kernelspec": {
   "display_name": "Python 3",
   "language": "python",
   "name": "python3"
  },
  "language_info": {
   "codemirror_mode": {
    "name": "ipython",
    "version": 3
   },
   "file_extension": ".py",
   "mimetype": "text/x-python",
   "name": "python",
   "nbconvert_exporter": "python",
   "pygments_lexer": "ipython3",
   "version": "3.6.0"
  }
 },
 "nbformat": 4,
 "nbformat_minor": 0
}
