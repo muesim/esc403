{
 "cells": [
  {
   "cell_type": "markdown",
   "metadata": {},
   "source": [
    "The ESC403 cluster comes with [Catherine Devlin's `%sql`-magic for IPython][1]; this allows you to run SQL queries from the IPython notebook, and intermix them with Python code.\n",
    "\n",
    "[1]: https://github.com/catherinedevlin/ipython-sql"
   ]
  },
  {
   "cell_type": "markdown",
   "metadata": {},
   "source": [
    "Before we can use the `%sql` syntax, two steps must be taken:\n",
    "\n",
    "* Load the IPython-SQL bridge code"
   ]
  },
  {
   "cell_type": "code",
   "execution_count": 2,
   "metadata": {
    "collapsed": false
   },
   "outputs": [],
   "source": [
    "%load_ext sql\n"
   ]
  },
  {
   "cell_type": "markdown",
   "metadata": {},
   "source": [
    "* Connect to an actual database; this must be the first `%sql` statement (the funny `rmurri@/lustre` syntax is correct and means \"connect to the PostGreSQL DB named `lustre` running on *this* host as user `rmurri`\"  -- please replace `rmurri` with your local user name):"
   ]
  },
  {
   "cell_type": "code",
   "execution_count": 3,
   "metadata": {
    "collapsed": false
   },
   "outputs": [
    {
     "data": {
      "text/plain": [
       "u'Connected: muesim@lustre'"
      ]
     },
     "execution_count": 3,
     "metadata": {},
     "output_type": "execute_result"
    }
   ],
   "source": [
    "%sql postgresql://muesim@/lustre\n"
   ]
  },
  {
   "cell_type": "markdown",
   "metadata": {},
   "source": [
    "Now you can run 1-line SQL queries by prefixing them with `%sql`:"
   ]
  },
  {
   "cell_type": "code",
   "execution_count": 4,
   "metadata": {
    "collapsed": false,
    "scrolled": true
   },
   "outputs": [
    {
     "name": "stdout",
     "output_type": "stream",
     "text": [
      "5 rows affected.\n"
     ]
    },
    {
     "data": {
      "text/html": [
       "<table>\n",
       "    <tr>\n",
       "        <th>usr</th>\n",
       "        <th>grp</th>\n",
       "        <th>atime</th>\n",
       "        <th>mtime</th>\n",
       "        <th>blksize</th>\n",
       "        <th>size</th>\n",
       "        <th>path</th>\n",
       "    </tr>\n",
       "    <tr>\n",
       "        <td>usr356</td>\n",
       "        <td>i5105</td>\n",
       "        <td>1360399005</td>\n",
       "        <td>1368700859</td>\n",
       "        <td>4</td>\n",
       "        <td>2248</td>\n",
       "        <td>/scratch/bioc/usr356/param/ZINC04992888.rtf</td>\n",
       "    </tr>\n",
       "    <tr>\n",
       "        <td>usr356</td>\n",
       "        <td>i5105</td>\n",
       "        <td>1360387170</td>\n",
       "        <td>1368792474</td>\n",
       "        <td>8</td>\n",
       "        <td>6640</td>\n",
       "        <td>/scratch/bioc/usr356/param/ZINC71832434.prm</td>\n",
       "    </tr>\n",
       "    <tr>\n",
       "        <td>usr356</td>\n",
       "        <td>i5105</td>\n",
       "        <td>1360416215</td>\n",
       "        <td>1368785748</td>\n",
       "        <td>8</td>\n",
       "        <td>4480</td>\n",
       "        <td>/scratch/bioc/usr356/param/ZINC71850771.prm</td>\n",
       "    </tr>\n",
       "    <tr>\n",
       "        <td>usr356</td>\n",
       "        <td>i5105</td>\n",
       "        <td>1360404430</td>\n",
       "        <td>1368792486</td>\n",
       "        <td>4</td>\n",
       "        <td>2556</td>\n",
       "        <td>/scratch/bioc/usr356/param/ZINC34729086.rtf</td>\n",
       "    </tr>\n",
       "    <tr>\n",
       "        <td>usr356</td>\n",
       "        <td>i5105</td>\n",
       "        <td>1360420861</td>\n",
       "        <td>1368774402</td>\n",
       "        <td>4</td>\n",
       "        <td>2065</td>\n",
       "        <td>/scratch/bioc/usr356/param/ZINC45891658.rtf</td>\n",
       "    </tr>\n",
       "</table>"
      ],
      "text/plain": [
       "[(u'usr356', u'i5105', 1360399005, 1368700859, 4, 2248L, u'/scratch/bioc/usr356/param/ZINC04992888.rtf'),\n",
       " (u'usr356', u'i5105', 1360387170, 1368792474, 8, 6640L, u'/scratch/bioc/usr356/param/ZINC71832434.prm'),\n",
       " (u'usr356', u'i5105', 1360416215, 1368785748, 8, 4480L, u'/scratch/bioc/usr356/param/ZINC71850771.prm'),\n",
       " (u'usr356', u'i5105', 1360404430, 1368792486, 4, 2556L, u'/scratch/bioc/usr356/param/ZINC34729086.rtf'),\n",
       " (u'usr356', u'i5105', 1360420861, 1368774402, 4, 2065L, u'/scratch/bioc/usr356/param/ZINC45891658.rtf')]"
      ]
     },
     "execution_count": 4,
     "metadata": {},
     "output_type": "execute_result"
    }
   ],
   "source": [
    "%sql select * from lustre limit 5;"
   ]
  },
  {
   "cell_type": "markdown",
   "metadata": {},
   "source": [
    "It is also possible to run multi-line (or multiple) SQL queries by using the `%%sql` syntax instead.  Note that in this case the SQL instructions *must not* be on the same line as the `%%sql` magic marker:"
   ]
  },
  {
   "cell_type": "code",
   "execution_count": 5,
   "metadata": {
    "collapsed": false
   },
   "outputs": [
    {
     "name": "stdout",
     "output_type": "stream",
     "text": [
      "1 rows affected.\n",
      "1 rows affected.\n",
      "1 rows affected.\n"
     ]
    },
    {
     "data": {
      "text/html": [
       "<table>\n",
       "    <tr>\n",
       "        <th>count</th>\n",
       "    </tr>\n",
       "    <tr>\n",
       "        <td>30356776</td>\n",
       "    </tr>\n",
       "</table>"
      ],
      "text/plain": [
       "[(30356776L,)]"
      ]
     },
     "execution_count": 5,
     "metadata": {},
     "output_type": "execute_result"
    }
   ],
   "source": [
    "%%sql\n",
    "select count(*) from lustre;\n",
    "select distinct count(usr) from lustre;\n",
    "select distinct count(grp) from lustre;"
   ]
  },
  {
   "cell_type": "markdown",
   "metadata": {},
   "source": [
    "The `%%time` magic prints the time taken to evaluate a cell (which comes handy when doing performance comparisons):"
   ]
  },
  {
   "cell_type": "code",
   "execution_count": 6,
   "metadata": {
    "collapsed": false
   },
   "outputs": [
    {
     "name": "stdout",
     "output_type": "stream",
     "text": [
      "CPU times: user 0 ns, sys: 4.02 ms, total: 4.02 ms\n",
      "Wall time: 5.01 s\n"
     ]
    }
   ],
   "source": [
    "%%time\n",
    "\n",
    "import time\n",
    "time.sleep(5)"
   ]
  },
  {
   "cell_type": "markdown",
   "metadata": {},
   "source": [
    "----"
   ]
  },
  {
   "cell_type": "markdown",
   "metadata": {},
   "source": [
    "**Note:** to keep running times low, we will be using table `lustre_sample` throughout, which contains a sample of 5% the rows of the original `lustre` table."
   ]
  },
  {
   "cell_type": "markdown",
   "metadata": {},
   "source": [
    "## 1. How many files are there in the `lustre` dataset"
   ]
  },
  {
   "cell_type": "code",
   "execution_count": 7,
   "metadata": {
    "collapsed": false
   },
   "outputs": [
    {
     "name": "stdout",
     "output_type": "stream",
     "text": [
      "1 rows affected.\n",
      "CPU times: user 3.78 ms, sys: 0 ns, total: 3.78 ms\n",
      "Wall time: 181 ms\n"
     ]
    },
    {
     "data": {
      "text/html": [
       "<table>\n",
       "    <tr>\n",
       "        <th>count</th>\n",
       "    </tr>\n",
       "    <tr>\n",
       "        <td>1519053</td>\n",
       "    </tr>\n",
       "</table>"
      ],
      "text/plain": [
       "[(1519053L,)]"
      ]
     },
     "execution_count": 7,
     "metadata": {},
     "output_type": "execute_result"
    }
   ],
   "source": [
    "%time %sql select count(*) from lustre_sample;"
   ]
  },
  {
   "cell_type": "markdown",
   "metadata": {},
   "source": [
    "Since we know that all values in the `path` column are distinct, we can omit the `DISTINCT` keyword. Does it gain us some performance?"
   ]
  },
  {
   "cell_type": "code",
   "execution_count": 8,
   "metadata": {
    "collapsed": false
   },
   "outputs": [
    {
     "name": "stdout",
     "output_type": "stream",
     "text": [
      "1 rows affected.\n",
      "CPU times: user 5.99 ms, sys: 0 ns, total: 5.99 ms\n",
      "Wall time: 1min 7s\n"
     ]
    },
    {
     "data": {
      "text/html": [
       "<table>\n",
       "    <tr>\n",
       "        <th>count</th>\n",
       "    </tr>\n",
       "    <tr>\n",
       "        <td>1519053</td>\n",
       "    </tr>\n",
       "</table>"
      ],
      "text/plain": [
       "[(1519053L,)]"
      ]
     },
     "execution_count": 8,
     "metadata": {},
     "output_type": "execute_result"
    }
   ],
   "source": [
    "%time %sql select count(distinct path) from lustre_sample;"
   ]
  },
  {
   "cell_type": "markdown",
   "metadata": {},
   "source": [
    "## 2. How many distinct users own files in the dataset?"
   ]
  },
  {
   "cell_type": "code",
   "execution_count": 9,
   "metadata": {
    "collapsed": false
   },
   "outputs": [
    {
     "name": "stdout",
     "output_type": "stream",
     "text": [
      "1 rows affected.\n"
     ]
    },
    {
     "data": {
      "text/html": [
       "<table>\n",
       "    <tr>\n",
       "        <th>count</th>\n",
       "    </tr>\n",
       "    <tr>\n",
       "        <td>40</td>\n",
       "    </tr>\n",
       "</table>"
      ],
      "text/plain": [
       "[(40L,)]"
      ]
     },
     "execution_count": 9,
     "metadata": {},
     "output_type": "execute_result"
    }
   ],
   "source": [
    "%sql select count(distinct usr) from lustre_sample;"
   ]
  },
  {
   "cell_type": "markdown",
   "metadata": {},
   "source": [
    "## 3. What user has the largest number of files?"
   ]
  },
  {
   "cell_type": "code",
   "execution_count": 10,
   "metadata": {
    "collapsed": false
   },
   "outputs": [
    {
     "name": "stdout",
     "output_type": "stream",
     "text": [
      "3 rows affected.\n"
     ]
    },
    {
     "data": {
      "text/html": [
       "<table>\n",
       "    <tr>\n",
       "        <th>usr</th>\n",
       "        <th>cnt</th>\n",
       "    </tr>\n",
       "    <tr>\n",
       "        <td>usr356</td>\n",
       "        <td>602120</td>\n",
       "    </tr>\n",
       "    <tr>\n",
       "        <td>usr388</td>\n",
       "        <td>485650</td>\n",
       "    </tr>\n",
       "    <tr>\n",
       "        <td>usr264</td>\n",
       "        <td>189651</td>\n",
       "    </tr>\n",
       "</table>"
      ],
      "text/plain": [
       "[(u'usr356', 602120L), (u'usr388', 485650L), (u'usr264', 189651L)]"
      ]
     },
     "execution_count": 10,
     "metadata": {},
     "output_type": "execute_result"
    }
   ],
   "source": [
    "%sql select distinct usr, count(path) as cnt from lustre_sample group by usr order by cnt desc limit 3;"
   ]
  },
  {
   "cell_type": "markdown",
   "metadata": {},
   "source": [
    "## 4. Which is/are the most-recently accessed file(s)?"
   ]
  },
  {
   "cell_type": "markdown",
   "metadata": {},
   "source": [
    "The `atime` field stores the last-access time in UNIX \"epoch\" format.\n",
    "The *maximum* `atime` value is the most recent one::"
   ]
  },
  {
   "cell_type": "code",
   "execution_count": 11,
   "metadata": {
    "collapsed": false
   },
   "outputs": [
    {
     "name": "stdout",
     "output_type": "stream",
     "text": [
      "1 rows affected.\n"
     ]
    },
    {
     "data": {
      "text/html": [
       "<table>\n",
       "    <tr>\n",
       "        <th>max</th>\n",
       "    </tr>\n",
       "    <tr>\n",
       "        <td>1393664299</td>\n",
       "    </tr>\n",
       "</table>"
      ],
      "text/plain": [
       "[(1393664299,)]"
      ]
     },
     "execution_count": 11,
     "metadata": {},
     "output_type": "execute_result"
    }
   ],
   "source": [
    "%sql select max(atime) from lustre_sample;"
   ]
  },
  {
   "cell_type": "markdown",
   "metadata": {},
   "source": [
    "Then you should of course select the path(s) with that access time::"
   ]
  },
  {
   "cell_type": "code",
   "execution_count": 12,
   "metadata": {
    "collapsed": false
   },
   "outputs": [
    {
     "name": "stdout",
     "output_type": "stream",
     "text": [
      "1 rows affected.\n"
     ]
    },
    {
     "data": {
      "text/html": [
       "<table>\n",
       "    <tr>\n",
       "        <th>path</th>\n",
       "    </tr>\n",
       "    <tr>\n",
       "        <td>/scratch/bioc/usr384/TD-RS/run08/equi/output/restart.xsc</td>\n",
       "    </tr>\n",
       "</table>"
      ],
      "text/plain": [
       "[(u'/scratch/bioc/usr384/TD-RS/run08/equi/output/restart.xsc',)]"
      ]
     },
     "execution_count": 12,
     "metadata": {},
     "output_type": "execute_result"
    }
   ],
   "source": [
    "%sql select path from lustre_sample where atime=(select max(atime) from lustre_sample);"
   ]
  },
  {
   "cell_type": "markdown",
   "metadata": {},
   "source": [
    "If we already know the *number* of files with maximum `atime`, we can\n",
    "use a single query to get their names::"
   ]
  },
  {
   "cell_type": "code",
   "execution_count": 13,
   "metadata": {
    "collapsed": false
   },
   "outputs": [
    {
     "name": "stdout",
     "output_type": "stream",
     "text": [
      "1 rows affected.\n"
     ]
    },
    {
     "data": {
      "text/html": [
       "<table>\n",
       "    <tr>\n",
       "        <th>path</th>\n",
       "    </tr>\n",
       "    <tr>\n",
       "        <td>/scratch/bioc/usr384/TD-RS/run08/equi/output/restart.xsc</td>\n",
       "    </tr>\n",
       "</table>"
      ],
      "text/plain": [
       "[(u'/scratch/bioc/usr384/TD-RS/run08/equi/output/restart.xsc',)]"
      ]
     },
     "execution_count": 13,
     "metadata": {},
     "output_type": "execute_result"
    }
   ],
   "source": [
    "%sql select path from lustre_sample order by atime desc limit 1;"
   ]
  },
  {
   "cell_type": "markdown",
   "metadata": {},
   "source": [
    "Just in case you wonder: `atime=max(atime)` is not a valid `WHERE` clause::"
   ]
  },
  {
   "cell_type": "code",
   "execution_count": 14,
   "metadata": {
    "collapsed": false
   },
   "outputs": [
    {
     "name": "stdout",
     "output_type": "stream",
     "text": [
      "(psycopg2.ProgrammingError) aggregate functions are not allowed in WHERE\n",
      "LINE 1: select path from lustre_sample where atime=max(atime);\n",
      "                                                   ^\n",
      " [SQL: 'select path from lustre_sample where atime=max(atime);']\n"
     ]
    }
   ],
   "source": [
    "%sql select path from lustre_sample where atime=max(atime);"
   ]
  },
  {
   "cell_type": "markdown",
   "metadata": {},
   "source": [
    "## 5. Let's say that $T_0$ is the time the most-recently accessed file was last read. How many files were not read in the month preceding $T_0$?"
   ]
  },
  {
   "cell_type": "markdown",
   "metadata": {},
   "source": [
    "We know that T0=1393671122. Now it's easy to select paths accessed in\n",
    "the given range::"
   ]
  },
  {
   "cell_type": "code",
   "execution_count": 15,
   "metadata": {
    "collapsed": false
   },
   "outputs": [
    {
     "name": "stdout",
     "output_type": "stream",
     "text": [
      "1 rows affected.\n"
     ]
    },
    {
     "data": {
      "text/html": [
       "<table>\n",
       "    <tr>\n",
       "        <th>count</th>\n",
       "    </tr>\n",
       "    <tr>\n",
       "        <td>26128</td>\n",
       "    </tr>\n",
       "</table>"
      ],
      "text/plain": [
       "[(26128L,)]"
      ]
     },
     "execution_count": 15,
     "metadata": {},
     "output_type": "execute_result"
    }
   ],
   "source": [
    "%sql select count(path) from lustre_sample where atime > (1393664299 - 30*24*60*60)"
   ]
  },
  {
   "cell_type": "markdown",
   "metadata": {},
   "source": [
    "## 6. Is it possible to convert fields atime and mtime to PostgreSQL's TIMESTAMP type?"
   ]
  },
  {
   "cell_type": "markdown",
   "metadata": {},
   "source": [
    "Yes, it *is* possible to alter a SQL table definition after the table has been created.\n",
    "\n",
    "We shall now show how to (1) create a new table, (2) populate it, then (3) alter the definition and (4) fill the new column with values."
   ]
  },
  {
   "cell_type": "code",
   "execution_count": 16,
   "metadata": {
    "collapsed": false
   },
   "outputs": [
    {
     "name": "stdout",
     "output_type": "stream",
     "text": [
      "(psycopg2.ProgrammingError) relation \"times\" already exists\n",
      " [SQL: 'create table times as (select * from lustre_sample);']\n"
     ]
    }
   ],
   "source": [
    "%sql create table times as (select * from lustre_sample);"
   ]
  },
  {
   "cell_type": "code",
   "execution_count": 17,
   "metadata": {
    "collapsed": false
   },
   "outputs": [
    {
     "name": "stdout",
     "output_type": "stream",
     "text": [
      "(psycopg2.ProgrammingError) column \"atime_timestamp\" of relation \"times\" already exists\n",
      " [SQL: 'alter table times add column atime_timestamp timestamp;']\n"
     ]
    }
   ],
   "source": [
    "%sql alter table times add column atime_timestamp timestamp;"
   ]
  },
  {
   "cell_type": "code",
   "execution_count": 18,
   "metadata": {
    "collapsed": false
   },
   "outputs": [
    {
     "name": "stdout",
     "output_type": "stream",
     "text": [
      "1519053 rows affected.\n"
     ]
    },
    {
     "data": {
      "text/plain": [
       "[]"
      ]
     },
     "execution_count": 18,
     "metadata": {},
     "output_type": "execute_result"
    }
   ],
   "source": [
    "%sql update times set atime_timestamp=to_timestamp(atime);"
   ]
  },
  {
   "cell_type": "markdown",
   "metadata": {},
   "source": [
    "Show some data from the table we created::"
   ]
  },
  {
   "cell_type": "code",
   "execution_count": 19,
   "metadata": {
    "collapsed": false
   },
   "outputs": [
    {
     "name": "stdout",
     "output_type": "stream",
     "text": [
      "3 rows affected.\n"
     ]
    },
    {
     "data": {
      "text/html": [
       "<table>\n",
       "    <tr>\n",
       "        <th>atime</th>\n",
       "        <th>atime_timestamp</th>\n",
       "        <th>path</th>\n",
       "    </tr>\n",
       "    <tr>\n",
       "        <td>1390288156</td>\n",
       "        <td>2014-01-21 07:09:16</td>\n",
       "        <td>/scratch/bioc/usr296/actin/protein_reid-unbound_5/distances/wordom_dist_reidi_res_10.xvg</td>\n",
       "    </tr>\n",
       "    <tr>\n",
       "        <td>1390290448</td>\n",
       "        <td>2014-01-21 07:47:28</td>\n",
       "        <td>/scratch/bioc/usr296/actin/protein_reid-unbound_5/distances/wordom_dist_reidi_ring_res_121.xvg</td>\n",
       "    </tr>\n",
       "    <tr>\n",
       "        <td>1390292628</td>\n",
       "        <td>2014-01-21 08:23:48</td>\n",
       "        <td>/scratch/bioc/usr296/actin/protein_reid-unbound_5/distances/wordom_dist_reidi_ring_res_233.xvg</td>\n",
       "    </tr>\n",
       "</table>"
      ],
      "text/plain": [
       "[(1390288156, datetime.datetime(2014, 1, 21, 7, 9, 16), u'/scratch/bioc/usr296/actin/protein_reid-unbound_5/distances/wordom_dist_reidi_res_10.xvg'),\n",
       " (1390290448, datetime.datetime(2014, 1, 21, 7, 47, 28), u'/scratch/bioc/usr296/actin/protein_reid-unbound_5/distances/wordom_dist_reidi_ring_res_121.xvg'),\n",
       " (1390292628, datetime.datetime(2014, 1, 21, 8, 23, 48), u'/scratch/bioc/usr296/actin/protein_reid-unbound_5/distances/wordom_dist_reidi_ring_res_233.xvg')]"
      ]
     },
     "execution_count": 19,
     "metadata": {},
     "output_type": "execute_result"
    }
   ],
   "source": [
    "%sql select atime, atime_timestamp, path from times limit 3;"
   ]
  },
  {
   "cell_type": "markdown",
   "metadata": {},
   "source": [
    "## 7. Can you count the number of files in a given directory?"
   ]
  },
  {
   "cell_type": "markdown",
   "metadata": {},
   "source": [
    "Yes, using SQL's `like` string matching operator, which allows any\n",
    "part of a string to be matched by the `%` character (i.e., just like\n",
    "`*` for file names)::"
   ]
  },
  {
   "cell_type": "code",
   "execution_count": 4,
   "metadata": {
    "collapsed": false
   },
   "outputs": [
    {
     "name": "stdout",
     "output_type": "stream",
     "text": [
      "1 rows affected.\n"
     ]
    },
    {
     "data": {
      "text/html": [
       "<table>\n",
       "    <tr>\n",
       "        <th>count</th>\n",
       "    </tr>\n",
       "    <tr>\n",
       "        <td>129</td>\n",
       "    </tr>\n",
       "</table>"
      ],
      "text/plain": [
       "[(129L,)]"
      ]
     },
     "execution_count": 4,
     "metadata": {},
     "output_type": "execute_result"
    }
   ],
   "source": [
    "%sql select count(path) from lustre_sample where path like '/scratch/bioc/usr384/%'"
   ]
  },
  {
   "cell_type": "markdown",
   "metadata": {},
   "source": [
    "## 8. Can you find the directory that holds the largest number of files? "
   ]
  },
  {
   "cell_type": "code",
   "execution_count": 7,
   "metadata": {
    "collapsed": false
   },
   "outputs": [
    {
     "name": "stdout",
     "output_type": "stream",
     "text": [
      "(psycopg2.ProgrammingError) syntax error at or near \"split_part\"\n",
      "LINE 1: split_part('Hello.Pendejo', '.',2)\n",
      "        ^\n",
      " [SQL: \"split_part('Hello.Pendejo', '.',2)\"]\n"
     ]
    }
   ],
   "source": []
  },
  {
   "cell_type": "markdown",
   "metadata": {},
   "source": [
    "## 9. Can you find the directory tree that holds the largest number of files?"
   ]
  },
  {
   "cell_type": "markdown",
   "metadata": {
    "collapsed": true
   },
   "source": [
    "Yes or no? *(and why?)*"
   ]
  }
 ],
 "metadata": {
  "kernelspec": {
   "display_name": "Python 2",
   "language": "python",
   "name": "python2"
  },
  "language_info": {
   "codemirror_mode": {
    "name": "ipython",
    "version": 2
   },
   "file_extension": ".py",
   "mimetype": "text/x-python",
   "name": "python",
   "nbconvert_exporter": "python",
   "pygments_lexer": "ipython2",
   "version": "2.7.13"
  }
 },
 "nbformat": 4,
 "nbformat_minor": 0
}
