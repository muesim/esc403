{
 "cells": [
  {
   "cell_type": "markdown",
   "metadata": {
    "collapsed": true
   },
   "source": [
    "#   Big Data\n",
    "## Algorithms: Graphs and dynamic programming\n",
    "## Victor P. Debattista April 2017\n",
    "\n",
    "\n",
    "We will explore digraphs first, then a small bit about graphs and finish with the knapsack problem "
   ]
  },
  {
   "cell_type": "code",
   "execution_count": 76,
   "metadata": {
    "collapsed": false
   },
   "outputs": [],
   "source": [
    "import numpy as np\n",
    "import math\n",
    "import random\n",
    "import time\n",
    "import matplotlib.pyplot as plt\n",
    "import pylab\n",
    "random.seed(22)"
   ]
  },
  {
   "cell_type": "markdown",
   "metadata": {},
   "source": [
    "Let's first write a function for generating a digraph with N nodes and E edges. We will do this using the array representation of a digraph, because it makes subsequent work easier.  Diagonal elements will be set to 0.  We will set the maximum edge (when not infinity) to be 100."
   ]
  },
  {
   "cell_type": "code",
   "execution_count": 77,
   "metadata": {
    "collapsed": false
   },
   "outputs": [],
   "source": [
    "def Digraph(N,E):\n",
    "# First check that the user is not requesting too many edges; the maximum number of edges \n",
    "# E is N^2 - N\n",
    "    if( N*(N - 1) < E ):\n",
    "        print('You are asking for too much!')\n",
    "    else:\n",
    "        A = np.zeros((N,N))   #initial NxN array with zero entries\n",
    "# Now populate the array with random values\n",
    "        for i in range(0,N):\n",
    "            for j in range(0,N):\n",
    "                if( i != j ):\n",
    "                    A[i,j] = int(random.uniform(1,100))\n",
    "# Now set some random set of entries to infinity, i.e. no edge \n",
    "        cnt = N*N - N\n",
    "        while( cnt > E ):\n",
    "            i = int(random.uniform(0,N))\n",
    "            j = int(random.uniform(0,N))\n",
    "            if( ( i != j ) and ( A[i,j] != math.inf ) ):\n",
    "                A[i,j] = math.inf\n",
    "                cnt = cnt - 1\n",
    "    return A"
   ]
  },
  {
   "cell_type": "markdown",
   "metadata": {},
   "source": [
    "Let's verify this works by printing out an example"
   ]
  },
  {
   "cell_type": "code",
   "execution_count": 78,
   "metadata": {
    "collapsed": false
   },
   "outputs": [
    {
     "name": "stdout",
     "output_type": "stream",
     "text": [
      "[[  0.  95.  inf   3.  inf]\n",
      " [ inf   0.  12.  inf  inf]\n",
      " [ 89.  23.   0.  inf  32.]\n",
      " [ inf  93.  68.   0.  92.]\n",
      " [ 71.  inf  inf  inf   0.]]\n"
     ]
    }
   ],
   "source": [
    "print(Digraph(5, 10))"
   ]
  },
  {
   "cell_type": "markdown",
   "metadata": {},
   "source": [
    "Having done this, let's now develop Floyd's algorith to measure the shortest path between any two nodes."
   ]
  },
  {
   "cell_type": "code",
   "execution_count": 88,
   "metadata": {
    "collapsed": false
   },
   "outputs": [],
   "source": [
    "def Floyds(C, N):\n",
    "    A = np.copy(C)\n",
    "    for k in range(0, N-1):\n",
    "        for i in range(0, N-1):\n",
    "            for j in range(0, N-1):\n",
    "                if(A[i, k] + A[k, j] < A[i, j]):\n",
    "                    A[i, j] = A[i, k] + A[k, j]\n",
    "    return A\n",
    "# The calling arguments are the cost array C and the number of nodes"
   ]
  },
  {
   "cell_type": "markdown",
   "metadata": {},
   "source": [
    "Now let's try this out."
   ]
  },
  {
   "cell_type": "code",
   "execution_count": 94,
   "metadata": {
    "collapsed": false
   },
   "outputs": [
    {
     "name": "stdout",
     "output_type": "stream",
     "text": [
      "Cost array\n",
      "[[  0.  inf  12.  inf]\n",
      " [ inf   0.  79.  inf]\n",
      " [ 31.  66.   0.  73.]\n",
      " [ inf  inf  inf   0.]]\n",
      "------------------------------\n",
      "Final cost array\n",
      "[[   0.   78.   12.   inf]\n",
      " [ 110.    0.   79.   inf]\n",
      " [  31.   66.    0.   73.]\n",
      " [  inf   inf   inf    0.]]\n"
     ]
    }
   ],
   "source": [
    "C = Digraph(4, 5)\n",
    "A = Floyds(C, 4)\n",
    "\n",
    "print('Cost array')\n",
    "print(C)\n",
    "print('-'*30)\n",
    "print('Final cost array')\n",
    "print(A)"
   ]
  },
  {
   "cell_type": "markdown",
   "metadata": {},
   "source": [
    "Let's count how many pairs of vertices have no path between them "
   ]
  },
  {
   "cell_type": "code",
   "execution_count": 68,
   "metadata": {
    "collapsed": false
   },
   "outputs": [],
   "source": [
    "def NoPaths( A, N ):\n",
    "    cnt = 0\n",
    "    for i in range(0, N):\n",
    "        for j in range(0, N):\n",
    "            if A[i, j] == math.inf:\n",
    "                cnt += 1\n",
    "    return cnt\n",
    "# simply counts the number of non finite elements"
   ]
  },
  {
   "cell_type": "code",
   "execution_count": 69,
   "metadata": {
    "collapsed": false
   },
   "outputs": [
    {
     "name": "stdout",
     "output_type": "stream",
     "text": [
      "5\n"
     ]
    }
   ],
   "source": [
    "print(NoPaths(A, 4))"
   ]
  },
  {
   "cell_type": "markdown",
   "metadata": {
    "collapsed": true
   },
   "source": [
    "Let's do some timing experiments.  Explore how the number of edges and the number of nodes effects the timing of Floyd's algorithm in the array representation. Do not use more than 300 nodes in your graphs to keep timing reasonable"
   ]
  },
  {
   "cell_type": "code",
   "execution_count": 8,
   "metadata": {
    "collapsed": false
   },
   "outputs": [
    {
     "name": "stdout",
     "output_type": "stream",
     "text": [
      "10 edges give execution time = 5.266956090927124 seconds\n",
      "100 edges give execution time = 6.569046974182129 seconds\n",
      "1000 edges give execution time = 6.892165899276733 seconds\n",
      "10000 edges give execution time = 7.063892126083374 seconds\n"
     ]
    }
   ],
   "source": [
    "# Let's test the effect of number of edges\n",
    "nodes = 200\n",
    "edges = 10\n",
    "while( edges <= nodes*(nodes-1) ):\n",
    "    X = Digraph(nodes,edges)\n",
    "    start_time = time.time()\n",
    "    XA = Floyds( X,nodes )\n",
    "    end_time = time.time()\n",
    "    print(edges,'edges give execution time =',end_time-start_time,'seconds')\n",
    "    edges = edges * 10"
   ]
  },
  {
   "cell_type": "code",
   "execution_count": 9,
   "metadata": {
    "collapsed": false
   },
   "outputs": [
    {
     "name": "stdout",
     "output_type": "stream",
     "text": [
      "20 nodes give execution time = 0.005614042282104492 seconds\n",
      "40 nodes give execution time = 0.04650306701660156 seconds\n",
      "60 nodes give execution time = 0.15244603157043457 seconds\n",
      "80 nodes give execution time = 0.3280520439147949 seconds\n",
      "100 nodes give execution time = 0.6838779449462891 seconds\n",
      "120 nodes give execution time = 1.2858328819274902 seconds\n",
      "140 nodes give execution time = 3.0572118759155273 seconds\n",
      "160 nodes give execution time = 3.229192018508911 seconds\n",
      "180 nodes give execution time = 5.0050599575042725 seconds\n",
      "200 nodes give execution time = 7.02522087097168 seconds\n",
      "220 nodes give execution time = 10.383311986923218 seconds\n",
      "240 nodes give execution time = 14.539899826049805 seconds\n",
      "260 nodes give execution time = 17.896428108215332 seconds\n",
      "280 nodes give execution time = 22.89842391014099 seconds\n",
      "300 nodes give execution time = 32.901293992996216 seconds\n"
     ]
    }
   ],
   "source": [
    "# Let's test the effect of number of nodes\n",
    "edges = 10\n",
    "node_array = []\n",
    "time_array = []\n",
    "for nodes in range(20,301,20):\n",
    "    X = Digraph(nodes,edges)\n",
    "    start_time = time.time()\n",
    "    XA = Floyds( X,nodes )\n",
    "    end_time = time.time()\n",
    "    node_array.append(nodes)\n",
    "    time_array.append(end_time-start_time)\n",
    "    print(nodes,'nodes give execution time =',end_time-start_time,'seconds')\n",
    "time_array = [ math.log(x,10.) for x in time_array ]"
   ]
  },
  {
   "cell_type": "markdown",
   "metadata": {},
   "source": [
    "We can now plot up these numbers to see how they behave.  Remember that Floyd's algorith is $O(N^3)$"
   ]
  },
  {
   "cell_type": "code",
   "execution_count": 10,
   "metadata": {
    "collapsed": false
   },
   "outputs": [
    {
     "data": {
      "image/png": "[encoded data removed]",
      "text/plain": [
       "<matplotlib.figure.Figure at 0x10c17f438>"
      ]
     },
     "metadata": {},
     "output_type": "display_data"
    }
   ],
   "source": [
    "pylab.plot(node_array,time_array,marker='o')\n",
    "pylab.xlabel('# Nodes')\n",
    "pylab.ylabel('log(execution time [seconds])') \n",
    "twopts_x = [20,200]\n",
    "twopts_y = [0.01,0.01*1000]\n",
    "twopts_y = [ math.log(x,10.) for x in twopts_y ]\n",
    "pylab.plot(twopts_x,twopts_y,marker='D',color='r',label='Cubic')\n",
    "pylab.legend(loc='upper left')\n",
    "pylab.show()"
   ]
  },
  {
   "cell_type": "markdown",
   "metadata": {},
   "source": [
    "Does the time scale as $O(N^3)$?  Why or why not?\n",
    "\n",
    "Next let's write the code to do a depth first search as a recursive function"
   ]
  },
  {
   "cell_type": "code",
   "execution_count": 11,
   "metadata": {
    "collapsed": true
   },
   "outputs": [],
   "source": [
    "def DFS(node,G,visited,verts):\n",
    "# this function performs a depth first search from node \n",
    "\n",
    "    return visited"
   ]
  },
  {
   "cell_type": "markdown",
   "metadata": {},
   "source": [
    "For simplicity, let's work with a single digraph of 50 vertices and 200 edges.  We need to set a vector visited which is initally all false.  Also count and print out the number of trees."
   ]
  },
  {
   "cell_type": "code",
   "execution_count": 14,
   "metadata": {
    "collapsed": false
   },
   "outputs": [
    {
     "name": "stdout",
     "output_type": "stream",
     "text": [
      "0  2  4  9  19  24  26  5  6  15  21  8  47  10  17  23  25  12  14  37  42  35  44  34  43  31  39  41  33  48  27  30  22  32  40  28  3  13  38  7  45  29  46  36  49  18  11  16   \n",
      "-----\n",
      "1   \n",
      "-----\n",
      "20  \n",
      "This graph contains 3 trees.\n"
     ]
    }
   ],
   "source": [
    "#verts = 4\n",
    "#edges = 3\n",
    "verts = 50\n",
    "edges = 200\n",
    "G = Digraph(verts,edges)\n",
    "visited = [(i==0) for i in range(1,verts+1)]\n",
    "#print(G)\n",
    "\n",
    "trees = 0\n",
    "for i in range(0,verts):\n",
    "    if( not visited[i] ):\n",
    "        if( i != 0 ):\n",
    "            print(' ')\n",
    "            print('-----')  # new tree on a new line\n",
    "        trees = trees + 1\n",
    "        DFS(i,G,visited,verts)        \n",
    "\n",
    "print( '\\nThis graph contains',trees,'trees.' )"
   ]
  },
  {
   "cell_type": "markdown",
   "metadata": {},
   "source": [
    "The next thing we want to do is write code for a graph, rather than a digraph.  This will proceed more or less the same as the function Digraph above, we just need to be sure to symmetrise about the diagonal"
   ]
  },
  {
   "cell_type": "code",
   "execution_count": 15,
   "metadata": {
    "collapsed": true
   },
   "outputs": [],
   "source": [
    "def Graph(N,E):\n",
    "\n",
    "    return A"
   ]
  },
  {
   "cell_type": "markdown",
   "metadata": {},
   "source": [
    "Try Floyd's algorithm on this."
   ]
  },
  {
   "cell_type": "code",
   "execution_count": 16,
   "metadata": {
    "collapsed": false
   },
   "outputs": [
    {
     "name": "stdout",
     "output_type": "stream",
     "text": [
      "Cost array\n",
      "[[  0.  inf  inf  61.  45.]\n",
      " [ inf   0.  62.  94.  inf]\n",
      " [ inf  62.   0.  inf  87.]\n",
      " [ 61.  94.  inf   0.  inf]\n",
      " [ 45.  inf  87.  inf   0.]]\n",
      "------------------------------\n",
      "Final cost array\n",
      "[[   0.  155.  132.   61.   45.]\n",
      " [ 155.    0.   62.   94.  149.]\n",
      " [ 132.   62.    0.  156.   87.]\n",
      " [  61.   94.  156.    0.  106.]\n",
      " [  45.  149.   87.  106.    0.]]\n"
     ]
    }
   ],
   "source": [
    "C = Graph(5,5)\n",
    "A = Floyds(C,5)\n",
    "\n",
    "print('Cost array')\n",
    "print(C)\n",
    "print('-'*30)\n",
    "print('Final cost array')\n",
    "print(A)"
   ]
  },
  {
   "cell_type": "markdown",
   "metadata": {},
   "source": [
    "Let's switch to dynamic programming.  Let's start simple by revisiting a standard recursive solution to the factorial problem."
   ]
  },
  {
   "cell_type": "code",
   "execution_count": 17,
   "metadata": {
    "collapsed": false
   },
   "outputs": [
    {
     "name": "stdout",
     "output_type": "stream",
     "text": [
      "120\n"
     ]
    }
   ],
   "source": [
    "def factorial(n):\n",
    "    if( n == 1 ):\n",
    "        val = 1\n",
    "    else:\n",
    "        val = n * factorial(n-1)\n",
    "    return val\n",
    "\n",
    "print(factorial(5))"
   ]
  },
  {
   "cell_type": "markdown",
   "metadata": {},
   "source": [
    "This is quite straightforward and clearly returns the correct result.  But let's now turn this into a new function, factorial2 which uses dynamic programming"
   ]
  },
  {
   "cell_type": "code",
   "execution_count": 18,
   "metadata": {
    "collapsed": false
   },
   "outputs": [
    {
     "name": "stdout",
     "output_type": "stream",
     "text": [
      "120\n",
      "[   0.    0.    2.    6.   24.  120.    0.    0.    0.    0.]\n"
     ]
    }
   ],
   "source": [
    "# start by creating a zero array for storing computing factorials.  assume max n = 500\n",
    "fac_array = np.zeros(500)\n",
    "\n",
    "def factorial2(n):\n",
    "\n",
    "    return val\n",
    "\n",
    "print(factorial2(5))\n",
    "print(fac_array[0:10])"
   ]
  },
  {
   "cell_type": "markdown",
   "metadata": {},
   "source": [
    "Let's do some timing experiments, to see which is faster."
   ]
  },
  {
   "cell_type": "code",
   "execution_count": 19,
   "metadata": {
    "collapsed": false
   },
   "outputs": [
    {
     "name": "stdout",
     "output_type": "stream",
     "text": [
      "1000 iterations took 0.026780128479003906 seconds with factorial\n",
      "1000 iterations took 0.0008120536804199219 seconds with factorial2\n"
     ]
    }
   ],
   "source": [
    "start_time = time.time()\n",
    "for i in range(0, 1000):\n",
    "    factorial(100)\n",
    "end_time = time.time()\n",
    "print('1000 iterations took',end_time-start_time,'seconds with factorial')\n",
    "\n",
    "start_time = time.time()\n",
    "for i in range(0, 1000):\n",
    "    factorial2(100)\n",
    "end_time = time.time()\n",
    "print('1000 iterations took',end_time-start_time,'seconds with factorial2')"
   ]
  },
  {
   "cell_type": "markdown",
   "metadata": {},
   "source": [
    "Let's now write the code for the 0-1 knapsack problem.  Solve the example given in class of 5 boxes."
   ]
  },
  {
   "cell_type": "code",
   "execution_count": 198,
   "metadata": {
    "collapsed": false
   },
   "outputs": [],
   "source": [
    "def knapsack(v,w,N,max_W):\n",
    "\n",
    "    return V[N-1,max_W-1],K"
   ]
  },
  {
   "cell_type": "code",
   "execution_count": 203,
   "metadata": {
    "collapsed": false
   },
   "outputs": [
    {
     "name": "stdout",
     "output_type": "stream",
     "text": [
      "15\n",
      "Items chosen:\n",
      "Yellow box\n",
      "Blue box\n",
      "Grey box\n",
      "Red box\n"
     ]
    }
   ],
   "source": [
    "v = np.array((1,2,2,4,10))\n",
    "w = np.array((1,1,2,12,4))\n",
    "items = {0:'Red box', 1:'Grey box', 2:'Blue box', 3:'Green box', 4:'Yellow box'}\n",
    "V,tK = knapsack(v,w,5,15)\n",
    "print(V)\n",
    "print('Items chosen:')\n",
    "K = 14\n",
    "for i in range(4,-1,-1):\n",
    "    if( tK[i,K] ):\n",
    "        print(items[i])\n",
    "        K = K - w[i]"
   ]
  }
 ],
 "metadata": {
  "anaconda-cloud": {},
  "kernelspec": {
   "display_name": "Python 3",
   "language": "python",
   "name": "python3"
  },
  "language_info": {
   "codemirror_mode": {
    "name": "ipython",
    "version": 3
   },
   "file_extension": ".py",
   "mimetype": "text/x-python",
   "name": "python",
   "nbconvert_exporter": "python",
   "pygments_lexer": "ipython3",
   "version": "3.6.0"
  }
 },
 "nbformat": 4,
 "nbformat_minor": 1
}
