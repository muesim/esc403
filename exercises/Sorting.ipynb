{
 "cells": [
  {
   "cell_type": "markdown",
   "metadata": {
    "collapsed": true
   },
   "source": [
    "#   Big Data\n",
    "## Algorithms: Sorting, Recursion and Data Structures\n",
    "## Victor P. Debattista March 2017\n",
    "\n",
    "\n",
    "We are going to start with a very simple exercise in recursion just to get used to it, then implement a couple of sorting algorithms, one O(n$^2$) and one O(n log n)"
   ]
  },
  {
   "cell_type": "code",
   "execution_count": 2,
   "metadata": {
    "collapsed": false
   },
   "outputs": [],
   "source": [
    "import numpy as np\n",
    "import math\n",
    "import random\n",
    "import time"
   ]
  },
  {
   "cell_type": "markdown",
   "metadata": {},
   "source": [
    "Write a function that computes the n$^{th}$ Fibonacci number if $(F_0,F_1) = (1,1)$.  By definition a Fibonacci number is one such that $F_n = F_{n-1} + F_{n-2}$. You should use recursion to solve this problem, not a loop.\n",
    "Print the first 10 Fibonacci numbers."
   ]
  },
  {
   "cell_type": "code",
   "execution_count": 2,
   "metadata": {
    "collapsed": false
   },
   "outputs": [],
   "source": [
    "def Fibo(n):\n",
    "    if( n == 1 or n == 0 ):\n",
    "        return 1   # can change these values to change the Fibonacci sequence\n",
    "    else:\n",
    "        return Fibo(n-1) + Fibo(n-2)"
   ]
  },
  {
   "cell_type": "code",
   "execution_count": 3,
   "metadata": {
    "collapsed": false
   },
   "outputs": [
    {
     "name": "stdout",
     "output_type": "stream",
     "text": [
      "1\n",
      "1\n",
      "2\n",
      "3\n",
      "5\n",
      "8\n",
      "13\n",
      "21\n",
      "34\n",
      "55\n"
     ]
    }
   ],
   "source": [
    "for i in range(0,10):\n",
    "    print(Fibo(i))"
   ]
  },
  {
   "cell_type": "markdown",
   "metadata": {},
   "source": [
    "Let us start exploring sorting. In the first step we want to create a list of N numbers which we will use as our list for sorting"
   ]
  },
  {
   "cell_type": "code",
   "execution_count": 10,
   "metadata": {
    "collapsed": false
   },
   "outputs": [],
   "source": [
    "random.seed(22)\n",
    "N = 10000\n",
    "#N = 10\n",
    "data = []\n",
    "for i in range(N):\n",
    "    data.append(random.uniform(0.,10000.))"
   ]
  },
  {
   "cell_type": "markdown",
   "metadata": {},
   "source": [
    "Our first sorting algorithm is the insertion sort.  How would you sort the list data into another list, data2, using the insertion sort?  (We want to use a second list so we preserve our original list.  Note that swapping in Python is done easily via tuples:\n",
    "(A,B) = (B,A)\n",
    "with no need for temporary variables.)  Calculate how long this took to run."
   ]
  },
  {
   "cell_type": "code",
   "execution_count": 11,
   "metadata": {
    "collapsed": false
   },
   "outputs": [
    {
     "name": "stdout",
     "output_type": "stream",
     "text": [
      "RAW[0:7]: [9582.093798172727, 1403.685900763948, 236.1614713882554, 9986.306536729146, 1842.5364570285308, 1205.9206321532502, 6514.212405579194]\n",
      "SORTED[0:7]: [0.13393762374525053, 0.3062384190777312, 1.26708702534728, 2.961197729346443, 4.908756848494011, 5.125039670373921, 5.283946623794167]\n",
      "Execution time = 16.692615270614624 seconds\n"
     ]
    }
   ],
   "source": [
    "start_time = time.time()\n",
    "data2 = []\n",
    "data2.append(data[0])   # set first element equal; cannot set lists equal or data will be sorted\n",
    "for i in range(1,N):\n",
    "    data2.append(data[i])   # insert element by element\n",
    "    j = i\n",
    "    while( data2[j] < data2[j-1] ) and ( j > 0 ):\n",
    "        (data2[j],data2[j-1]) = (data2[j-1],data2[j])  #tuple swapping\n",
    "        j = j - 1  # update the current location of the new entry\n",
    "end_time = time.time()\n",
    "print(\"RAW[0:7]:\",data[0:7])\n",
    "print(\"SORTED[0:7]:\",data2[0:7])\n",
    "print(\"Execution time =\",end_time-start_time,'seconds')"
   ]
  },
  {
   "cell_type": "markdown",
   "metadata": {},
   "source": [
    "In the next part we will develop the functionality of a heap.  Write a recursive function that, given a list arr, sifts up element k ensuring that a heap structure is obtained.  The function should return the list back.  Be careful with index of the parent, it must work for both daughter nodes."
   ]
  },
  {
   "cell_type": "code",
   "execution_count": 4,
   "metadata": {
    "collapsed": true
   },
   "outputs": [],
   "source": [
    "def sift_up(arr, k):\n",
    "# in python, the parent node of element k is (k-1)//2, assuming the root is k=0\n",
    "    if( arr[k] > arr[(k-1)//2] ) and ( k > 0 ):\n",
    "        (arr[k],arr[(k-1)//2]) = (arr[(k-1)//2],arr[k])  # tuple swap\n",
    "        arr = sift_up( arr, (k-1)//2 )  # recursively sift_up on the next level up\n",
    "    return arr"
   ]
  },
  {
   "cell_type": "markdown",
   "metadata": {},
   "source": [
    "Next write a function that, given a list arr, filled to element k, inserts (pushes) a new element N to it, preserving the heap structure.  So this will need to use your sift function from above."
   ]
  },
  {
   "cell_type": "code",
   "execution_count": 5,
   "metadata": {
    "collapsed": false
   },
   "outputs": [],
   "source": [
    "def push( arr, k, N ):\n",
    "    arr.append(N)  \n",
    "    k = k + 1 # increase size of heap\n",
    "    arr = sift_up(arr,k)\n",
    "    return arr,k"
   ]
  },
  {
   "cell_type": "markdown",
   "metadata": {},
   "source": [
    "With these two functions, given a list of numbers, turn it into a heap by building a function heapify.  This should work by pushing every element of a list onto the heap."
   ]
  },
  {
   "cell_type": "code",
   "execution_count": 6,
   "metadata": {
    "collapsed": true
   },
   "outputs": [],
   "source": [
    "def heapify( data ):\n",
    "    heap = []\n",
    "    l = -1\n",
    "    for val in data:\n",
    "        heap,l = push(heap,l,val)\n",
    "    return heap,l"
   ]
  },
  {
   "cell_type": "markdown",
   "metadata": {
    "collapsed": true
   },
   "source": [
    "Now write a function to sift down for when we pop the maximum value off.  This is a recursive function.  Be careful about having 0 or 1 daughters and that sifting down always involve a swap with the larger of the two daughters if 2 exist."
   ]
  },
  {
   "cell_type": "code",
   "execution_count": 7,
   "metadata": {
    "collapsed": false
   },
   "outputs": [],
   "source": [
    "def sift_down( heap, k, l ):    \n",
    "# in python the daughter nodes are 2i + 1 and 2i + 2\n",
    "# k is the node to sift down, l is the last leaf\n",
    "\n",
    "    if( 2*k + 1 <= l ):   # ignore nodes without daughters, i.e. leaves\n",
    "        if( 2*k + 2 > l ):  # this only has one daughter; check it \n",
    "            if( heap[k] < heap[2*k+1] ):\n",
    "                (heap[k],heap[2*k+1]) = (heap[2*k+1],heap[k])  # tuple swap\n",
    "                # cannot sift down further\n",
    "        else:  # this is a node with 2 daughters; find the larger one first\n",
    "            left = ( heap[2*k+1] > heap[2*k+2] )\n",
    "            m = 2\n",
    "            if( left ):\n",
    "                m = 1  # offset for larger daughter\n",
    "            if( heap[k] < heap[2*k+m] ):\n",
    "                (heap[k],heap[2*k+m]) = (heap[2*k+m],heap[k])  # tuple swap\n",
    "                heap = sift_down( heap, 2*k+m, l )  # recurse the sifting down\n",
    "    return heap\n",
    "            "
   ]
  },
  {
   "cell_type": "markdown",
   "metadata": {},
   "source": [
    "Now add a function to pop the maximum value.  Remember that when popping the root, it will be replaced by the furthest leaf, which is then sifted down.  Return both the heap and its size."
   ]
  },
  {
   "cell_type": "code",
   "execution_count": 8,
   "metadata": {
    "collapsed": true
   },
   "outputs": [],
   "source": [
    "def pop_heap( heap, l ):\n",
    "# l is the last node in the heap; in our pop we move the root there, so it is in sorted order\n",
    "    (heap[l],heap[0]) = (heap[0],heap[l])   \n",
    "    l = l - 1 \n",
    "    heap = sift_down(heap,0,l)\n",
    "    return heap,l"
   ]
  },
  {
   "cell_type": "markdown",
   "metadata": {},
   "source": [
    "We have all the building blocks in place for a heap sort, so let's write that next.  We start by creating the heap, then repeatedly popping the heap, placing the popped items at the tail of the list that holds the heap.  I.e. we are going to sort the list in place, needing no extra storage."
   ]
  },
  {
   "cell_type": "code",
   "execution_count": 9,
   "metadata": {
    "collapsed": false
   },
   "outputs": [
    {
     "name": "stdout",
     "output_type": "stream",
     "text": [
      "RAW: [981, 929, 143, 248, 24, 627, 457]\n",
      "HEAPED: 999 \n",
      " 997 998 \n",
      " 994 996 988 992\n",
      "SORTED: [0, 1, 2, 3, 4, 5, 6]\n"
     ]
    },
    {
     "ename": "NameError",
     "evalue": "name 'data2' is not defined",
     "output_type": "error",
     "traceback": [
      "\u001b[0;31m---------------------------------------------------------------------------\u001b[0m",
      "\u001b[0;31mNameError\u001b[0m                                 Traceback (most recent call last)",
      "\u001b[0;32m<ipython-input-9-152e02041a31>\u001b[0m in \u001b[0;36m<module>\u001b[0;34m()\u001b[0m\n\u001b[1;32m     17\u001b[0m \u001b[0;31m# heap should now be a sorted array.  let's verify\u001b[0m\u001b[0;34m\u001b[0m\u001b[0;34m\u001b[0m\u001b[0m\n\u001b[1;32m     18\u001b[0m \u001b[0mprint\u001b[0m\u001b[0;34m(\u001b[0m\u001b[0;34m'SORTED:'\u001b[0m\u001b[0;34m,\u001b[0m\u001b[0mheap\u001b[0m\u001b[0;34m[\u001b[0m\u001b[0;36m0\u001b[0m\u001b[0;34m:\u001b[0m\u001b[0;36m7\u001b[0m\u001b[0;34m]\u001b[0m\u001b[0;34m)\u001b[0m\u001b[0;34m\u001b[0m\u001b[0m\n\u001b[0;32m---> 19\u001b[0;31m \u001b[0mprint\u001b[0m\u001b[0;34m(\u001b[0m\u001b[0;34m'DATA2:'\u001b[0m\u001b[0;34m,\u001b[0m\u001b[0mdata2\u001b[0m\u001b[0;34m[\u001b[0m\u001b[0;36m0\u001b[0m\u001b[0;34m:\u001b[0m\u001b[0;36m7\u001b[0m\u001b[0;34m]\u001b[0m\u001b[0;34m)\u001b[0m\u001b[0;34m\u001b[0m\u001b[0m\n\u001b[0m\u001b[1;32m     20\u001b[0m \u001b[0mprint\u001b[0m\u001b[0;34m(\u001b[0m\u001b[0;34m'Execution time ='\u001b[0m\u001b[0;34m,\u001b[0m\u001b[0mend_time\u001b[0m\u001b[0;34m-\u001b[0m\u001b[0mstart_time\u001b[0m\u001b[0;34m,\u001b[0m\u001b[0;34m'seconds'\u001b[0m\u001b[0;34m)\u001b[0m\u001b[0;34m\u001b[0m\u001b[0m\n",
      "\u001b[0;31mNameError\u001b[0m: name 'data2' is not defined"
     ]
    }
   ],
   "source": [
    "# we start by looking at a few entries in the array to sort\n",
    "print('RAW:',data[0:7])\n",
    "\n",
    "start_time = time.time()\n",
    "# build the initial heap\n",
    "heap,l = heapify(data)\n",
    "\n",
    "# for fun show the first few nodes to verify this is a heap\n",
    "print('HEAPED:',heap[0],'\\n',heap[1],heap[2],'\\n',heap[3],heap[4],heap[5],heap[6])\n",
    "\n",
    "# now we pop the heap, placing the popped item at the end of the heap in sorted order\n",
    "# %% time\n",
    "for i in range(N-1,0,-1):\n",
    "    heap,l = pop_heap(heap,i)\n",
    "end_time = time.time()\n",
    "    \n",
    "# heap should now be a sorted array.  let's verify\n",
    "print('SORTED:',heap[0:7])\n",
    "print('DATA2:',data2[0:7])\n",
    "print('Execution time =',end_time-start_time,'seconds')"
   ]
  },
  {
   "cell_type": "markdown",
   "metadata": {},
   "source": [
    "Let's now do a bin sort.  Now we're going to be a bit looser with this and directly use some of Python's sorting methods.  Start by writing a simple function that, given a value which is within a given range [lo,hi], finds the bin to place the element into if there are N bins.  If the value is out of range some flag value should be returned."
   ]
  },
  {
   "cell_type": "code",
   "execution_count": 13,
   "metadata": {
    "collapsed": true
   },
   "outputs": [],
   "source": [
    "def bin_index(val,lo,hi,N):\n",
    "# start with the sanity check that val satisfies lo <= val <= hi, else have a flag\n",
    "    if( (val < lo) or (val > hi) ):\n",
    "        tmp = -1\n",
    "    else: \n",
    "        tmp = (val - lo) * N/(hi-lo)\n",
    "    a = int(tmp)\n",
    "    return a"
   ]
  },
  {
   "cell_type": "markdown",
   "metadata": {
    "collapsed": true
   },
   "source": [
    "In this final step we do a bin sort.  This is a bit more complicated.  The way to do this is to have a list of lists.  You can directly use Python's .sort method for lists, since this is purely illustrative.  Or you can use your heapsort from before if your code was general enough."
   ]
  },
  {
   "cell_type": "code",
   "execution_count": 13,
   "metadata": {
    "collapsed": false
   },
   "outputs": [
    {
     "name": "stdout",
     "output_type": "stream",
     "text": [
      "Raw: [9582.093798172727, 1403.685900763948, 236.1614713882554, 9986.306536729146, 1842.5364570285308, 1205.9206321532502, 6514.212405579194]\n",
      "Sorted: [0.13393762374525053, 0.3062384190777312, 1.26708702534728, 2.961197729346443, 4.908756848494011, 5.125039670373921, 5.283946623794167]\n",
      "Execution time = 0.026282072067260742 seconds\n",
      "[0.13393762374525053, 0.3062384190777312, 1.26708702534728, 2.961197729346443, 4.908756848494011, 5.125039670373921, 5.283946623794167]\n",
      "Execution time = 0.013864994049072266 seconds\n"
     ]
    }
   ],
   "source": [
    "# let's start by testing out Python's sort directly\n",
    "data3 = data.copy()\n",
    "start_time = time.time()\n",
    "data3.sort()\n",
    "end_time = time.time()    \n",
    "print(\"Raw:\",data[0:7])\n",
    "print(\"Sorted:\",data3[0:7])    \n",
    "print('Execution time =',end_time-start_time,'seconds')\n",
    "\n",
    "# binsort\n",
    "data4 = data.copy()\n",
    "start_time = time.time()\n",
    "\n",
    "bins = 100 \n",
    "\n",
    "# set up empty list of buckets\n",
    "mlist = []\n",
    "for i in range(0,bins):\n",
    "    mlist.append([])\n",
    "\n",
    "# populate the buckets    \n",
    "for val in data:\n",
    "    i = bin_index(val,0.,10000.,bins)\n",
    "    if( i >= 0 ):   # ignore values that were out of range\n",
    "        mlist[i].append(val)\n",
    "    \n",
    "# sort the buckets, checking if they are empty first\n",
    "for i in range(0,bins):\n",
    "    if(len(mlist[i]) > 1):   # don't bother sorting bins with 1 entry\n",
    "        mlist[i].sort()      # using Python's resident list sort for this\n",
    "\n",
    "sorted_list = [c for v in mlist for c in v] # list comprehension to flatten the list of lists\n",
    "end_time = time.time()   \n",
    "print(sorted_list[0:7])\n",
    "\n",
    "print('Execution time =',end_time-start_time,'seconds')"
   ]
  },
  {
   "cell_type": "markdown",
   "metadata": {
    "collapsed": true
   },
   "source": [
    "Consider the quicksort.  Suppose it is given a sorted list.  If the pivot is always the leftmost value, what happens?  Suggest a solution.  You do not need to code this up."
   ]
  },
  {
   "cell_type": "markdown",
   "metadata": {},
   "source": [
    "If the list is sorted and the pivot is the leftmost element of the list, then the list is broken into an empty list and the full list.  Quicksort then recurses on this and is stuck in an infinite loop doing no work.\n",
    "A simple solution is to move the pivot to the empty list if the other list is not empty."
   ]
  }
 ],
 "metadata": {
  "anaconda-cloud": {},
  "kernelspec": {
   "display_name": "Python 3",
   "language": "python",
   "name": "python3"
  },
  "language_info": {
   "codemirror_mode": {
    "name": "ipython",
    "version": 3
   },
   "file_extension": ".py",
   "mimetype": "text/x-python",
   "name": "python",
   "nbconvert_exporter": "python",
   "pygments_lexer": "ipython3",
   "version": "3.6.0"
  }
 },
 "nbformat": 4,
 "nbformat_minor": 1
}
