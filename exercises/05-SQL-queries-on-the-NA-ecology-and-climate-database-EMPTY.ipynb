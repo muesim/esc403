{
 "cells": [
  {
   "cell_type": "markdown",
   "metadata": {},
   "source": [
    "# Preparing the environment"
   ]
  },
  {
   "cell_type": "markdown",
   "metadata": {},
   "source": [
    "## Graphics and plotting"
   ]
  },
  {
   "cell_type": "markdown",
   "metadata": {},
   "source": [
    "The following block of code initializes the Python plotting library [matplotlib](http://matplotlib.org/gallery.html) and configures it to show figures embedded in the notebook (as opposed to opening a new window for each figure):"
   ]
  },
  {
   "cell_type": "code",
   "execution_count": 15,
   "metadata": {
    "collapsed": true
   },
   "outputs": [],
   "source": [
    "%matplotlib inline\n",
    "\n",
    "import matplotlib\n",
    "import matplotlib.pyplot as plt"
   ]
  },
  {
   "cell_type": "markdown",
   "metadata": {},
   "source": [
    "The Seaborn library provides easy-to-use plotting functions for common plot types, and better default visual styles."
   ]
  },
  {
   "cell_type": "code",
   "execution_count": 16,
   "metadata": {
    "collapsed": true
   },
   "outputs": [],
   "source": [
    "import seaborn as sea"
   ]
  },
  {
   "cell_type": "markdown",
   "metadata": {},
   "source": [
    "Set the default size and style of the plot.  (Plots are styled to [look like R's `ggplot`](http://tonysyu.github.io/mpltools/auto_examples/style/plot_ggplot.html) library.)"
   ]
  },
  {
   "cell_type": "code",
   "execution_count": 17,
   "metadata": {
    "collapsed": true
   },
   "outputs": [],
   "source": [
    "matplotlib.rcParams['figure.figsize'] = (10, 7)\n",
    "\n",
    "sea.set_style('dark')"
   ]
  },
  {
   "cell_type": "markdown",
   "metadata": {},
   "source": [
    "Also make the NumPy library available (without it, some features of Matplotlib and -especially- Seaborn) will *not* work:"
   ]
  },
  {
   "cell_type": "code",
   "execution_count": 18,
   "metadata": {
    "collapsed": true
   },
   "outputs": [],
   "source": [
    "import numpy as np"
   ]
  },
  {
   "cell_type": "markdown",
   "metadata": {},
   "source": [
    "## SQL database connection"
   ]
  },
  {
   "cell_type": "markdown",
   "metadata": {},
   "source": [
    "The ESC403 cluster comes preinstalled with [Catherine Devlin's `%sql`-magic for IPython][1]; this allows you to run SQL queries from the IPython notebook, and intermix them with Python code.\n",
    "\n",
    "[1]: https://github.com/catherinedevlin/ipython-sql"
   ]
  },
  {
   "cell_type": "markdown",
   "metadata": {},
   "source": [
    "Before we can use the `%sql` syntax, two steps must be taken:\n",
    "\n",
    "* Load the IPython-SQL bridge code"
   ]
  },
  {
   "cell_type": "code",
   "execution_count": 19,
   "metadata": {
    "collapsed": false
   },
   "outputs": [
    {
     "name": "stdout",
     "output_type": "stream",
     "text": [
      "The sql extension is already loaded. To reload it, use:\n",
      "  %reload_ext sql\n"
     ]
    }
   ],
   "source": [
    "%load_ext sql"
   ]
  },
  {
   "cell_type": "markdown",
   "metadata": {},
   "source": [
    "* Connect to an actual database; this must be the first `%sql` statement (the `rmurri@/equidistantpoints` syntax means \"connect to the PostGreSQL DB named `equidistantpoints` running on *this* host as user `rmurri`\" -- of course change `rmurri` to *your* user name):"
   ]
  },
  {
   "cell_type": "code",
   "execution_count": 6,
   "metadata": {
    "collapsed": false
   },
   "outputs": [
    {
     "data": {
      "text/plain": [
       "u'Connected: muesim@equidistantpoints'"
      ]
     },
     "execution_count": 6,
     "metadata": {},
     "output_type": "execute_result"
    }
   ],
   "source": [
    "%sql postgresql://muesim@/equidistantpoints"
   ]
  },
  {
   "cell_type": "markdown",
   "metadata": {},
   "source": [
    "This database contains the [Equidistant Geographic Grid Points and Modern Climate](http://mypage.iu.edu/~pdpolly/Data.html) dataset (this the \"extended North American data\" in the words of the source website), imported into the PostGreSQL server running on this machine with a modified version of the [`mysql-postgresql-converter` script](https://github.com/lanyrd/mysql-postgresql-converter).\n",
    "\n",
    "The [original publication](http://mypage.iu.edu/~pdpolly/Data.html) describes the dataset thusly:\n",
    "\n",
    "> Database of equidistant grid points covering the globe at 25 km, 50 km, and 100 km intervals. A separate table of points just for the continent of North America is provided, with an ID that links each point into the global 50 km grid.\n",
    "> \n",
    "> A detailed set of North American 50 km points is available with the following data linked to the 50 km grid by the point's ID number:\n",
    "> \n",
    "> * Elevation from \"TerrainBase Global Land Elevation and Ocean Depth\" from the National Geophysical Data Center and World Data Centers-A for Solid Earth Geophysics and for Marine Geology and Geophysics (NGDC/WDC-A)\n",
    "> * Precipitation and Temperature from \"Global Air Temperature and Precipitation: Regridded Monthly and Annual Climatologies\" from Wilmott, Matsuura and Legates, Center for Climatic Research, University of Delaware.\n",
    "> * Macrovegetation cover from Matthews, 1984. \"Prescription of Land-surface Boundary Conditions in GISS GCM II: A Simple Method Based on High-resolution Vegetation Data Sets\". NASA TM-86096.\n",
    "> * Ecoregions from R.G. Bailey, \"Ecoregions of North America\", Rocky Mountain Research Station, US Forest Service, Fort Collins, Colorado.\n",
    "> * Bioclimatic variables on temperature, seasonality, precipitation, etc. from the WorldClim Global Climate Data set compiled by Hijmans et al., 2005.\n",
    ">\n",
    "> The gridpoints themselves and the data compilation may be cited as \"Polly, P.D.  2010. Tiptoeing through the trophics: geographic variation in carnivoran locomotor ecomorphology in relation to environment.  Pp. 374-410 in A. Goswami and A. Friscia (eds.), Carnivoran Evolution: New Views on Phylogeny, Form, and Function.\"\n"
   ]
  },
  {
   "cell_type": "markdown",
   "metadata": {},
   "source": [
    "Let us then explore the tables to get a \"feeling\" of the data here (**Note:** this query is non-standard and will only run on the PostgreSQL RDBMS):"
   ]
  },
  {
   "cell_type": "code",
   "execution_count": 7,
   "metadata": {
    "collapsed": false
   },
   "outputs": [
    {
     "name": "stdout",
     "output_type": "stream",
     "text": [
      "8 rows affected.\n"
     ]
    },
    {
     "data": {
      "text/html": [
       "<table>\n",
       "    <tr>\n",
       "        <th>table_name</th>\n",
       "    </tr>\n",
       "    <tr>\n",
       "        <td>naecoregionsbailey</td>\n",
       "    </tr>\n",
       "    <tr>\n",
       "        <td>natempwilmott</td>\n",
       "    </tr>\n",
       "    <tr>\n",
       "        <td>navegcovermatthews</td>\n",
       "    </tr>\n",
       "    <tr>\n",
       "        <td>na50kmpoints</td>\n",
       "    </tr>\n",
       "    <tr>\n",
       "        <td>naaltterrainbase</td>\n",
       "    </tr>\n",
       "    <tr>\n",
       "        <td>nabioclimvars</td>\n",
       "    </tr>\n",
       "    <tr>\n",
       "        <td>naprecipwilmott</td>\n",
       "    </tr>\n",
       "    <tr>\n",
       "        <td>northamerica50kmpoints</td>\n",
       "    </tr>\n",
       "</table>"
      ],
      "text/plain": [
       "[(u'naecoregionsbailey',),\n",
       " (u'natempwilmott',),\n",
       " (u'navegcovermatthews',),\n",
       " (u'na50kmpoints',),\n",
       " (u'naaltterrainbase',),\n",
       " (u'nabioclimvars',),\n",
       " (u'naprecipwilmott',),\n",
       " (u'northamerica50kmpoints',)]"
      ]
     },
     "execution_count": 7,
     "metadata": {},
     "output_type": "execute_result"
    }
   ],
   "source": [
    "%sql select table_name from information_schema.tables where table_schema = 'public';"
   ]
  },
  {
   "cell_type": "code",
   "execution_count": 8,
   "metadata": {
    "collapsed": false,
    "scrolled": true
   },
   "outputs": [
    {
     "name": "stdout",
     "output_type": "stream",
     "text": [
      "3 rows affected.\n"
     ]
    },
    {
     "data": {
      "text/html": [
       "<table>\n",
       "    <tr>\n",
       "        <th>id</th>\n",
       "        <th>globalid</th>\n",
       "        <th>longitude</th>\n",
       "        <th>latitude</th>\n",
       "        <th>lamy</th>\n",
       "        <th>lamx</th>\n",
       "    </tr>\n",
       "    <tr>\n",
       "        <td>1</td>\n",
       "        <td>103148</td>\n",
       "        <td>-42.17270</td>\n",
       "        <td>83.26264</td>\n",
       "        <td>0.11278</td>\n",
       "        <td>0.94127</td>\n",
       "    </tr>\n",
       "    <tr>\n",
       "        <td>2</td>\n",
       "        <td>103149</td>\n",
       "        <td>-38.34420</td>\n",
       "        <td>83.26264</td>\n",
       "        <td>0.11749</td>\n",
       "        <td>0.94691</td>\n",
       "    </tr>\n",
       "    <tr>\n",
       "        <td>3</td>\n",
       "        <td>103150</td>\n",
       "        <td>-34.51560</td>\n",
       "        <td>83.26264</td>\n",
       "        <td>0.12169</td>\n",
       "        <td>0.95277</td>\n",
       "    </tr>\n",
       "</table>"
      ],
      "text/plain": [
       "[(1, 103148, Decimal('-42.17270'), Decimal('83.26264'), Decimal('0.11278'), Decimal('0.94127')),\n",
       " (2, 103149, Decimal('-38.34420'), Decimal('83.26264'), Decimal('0.11749'), Decimal('0.94691')),\n",
       " (3, 103150, Decimal('-34.51560'), Decimal('83.26264'), Decimal('0.12169'), Decimal('0.95277'))]"
      ]
     },
     "execution_count": 8,
     "metadata": {},
     "output_type": "execute_result"
    }
   ],
   "source": [
    "%sql select * from na50kmpoints limit 3;"
   ]
  },
  {
   "cell_type": "code",
   "execution_count": 51,
   "metadata": {
    "collapsed": false
   },
   "outputs": [
    {
     "name": "stdout",
     "output_type": "stream",
     "text": [
      "3 rows affected.\n"
     ]
    },
    {
     "data": {
      "text/html": [
       "<table>\n",
       "    <tr>\n",
       "        <th>id</th>\n",
       "        <th>globalid</th>\n",
       "        <th>longitude</th>\n",
       "        <th>latitude</th>\n",
       "        <th>altitude</th>\n",
       "    </tr>\n",
       "    <tr>\n",
       "        <td>6</td>\n",
       "        <td>None</td>\n",
       "        <td>-79.46900</td>\n",
       "        <td>82.81348</td>\n",
       "        <td>460.00000</td>\n",
       "    </tr>\n",
       "    <tr>\n",
       "        <td>7</td>\n",
       "        <td>None</td>\n",
       "        <td>-75.87860</td>\n",
       "        <td>82.81348</td>\n",
       "        <td>980.00000</td>\n",
       "    </tr>\n",
       "    <tr>\n",
       "        <td>8</td>\n",
       "        <td>None</td>\n",
       "        <td>-72.28820</td>\n",
       "        <td>82.81348</td>\n",
       "        <td>520.00000</td>\n",
       "    </tr>\n",
       "</table>"
      ],
      "text/plain": [
       "[(6, None, Decimal('-79.46900'), Decimal('82.81348'), Decimal('460.00000')),\n",
       " (7, None, Decimal('-75.87860'), Decimal('82.81348'), Decimal('980.00000')),\n",
       " (8, None, Decimal('-72.28820'), Decimal('82.81348'), Decimal('520.00000'))]"
      ]
     },
     "execution_count": 51,
     "metadata": {},
     "output_type": "execute_result"
    }
   ],
   "source": [
    "%sql select * from naaltterrainbase limit 3;"
   ]
  },
  {
   "cell_type": "code",
   "execution_count": 49,
   "metadata": {
    "collapsed": false
   },
   "outputs": [
    {
     "name": "stdout",
     "output_type": "stream",
     "text": [
      "3 rows affected.\n"
     ]
    },
    {
     "data": {
      "text/html": [
       "<table>\n",
       "    <tr>\n",
       "        <th>id</th>\n",
       "        <th>globalid</th>\n",
       "        <th>bio1</th>\n",
       "        <th>bio2</th>\n",
       "        <th>bio3</th>\n",
       "        <th>bio4</th>\n",
       "        <th>bio5</th>\n",
       "        <th>bio6</th>\n",
       "        <th>bio7</th>\n",
       "        <th>bio8</th>\n",
       "        <th>bio9</th>\n",
       "        <th>bio10</th>\n",
       "        <th>bio11</th>\n",
       "        <th>bio12</th>\n",
       "        <th>bio13</th>\n",
       "        <th>bio14</th>\n",
       "        <th>bio15</th>\n",
       "        <th>bio16</th>\n",
       "        <th>bio17</th>\n",
       "        <th>bio18</th>\n",
       "        <th>bio19</th>\n",
       "    </tr>\n",
       "    <tr>\n",
       "        <td>1</td>\n",
       "        <td>103148</td>\n",
       "        <td>-17.32920</td>\n",
       "        <td>6.45830</td>\n",
       "        <td>16.43340</td>\n",
       "        <td>1239.56640</td>\n",
       "        <td>3.80000</td>\n",
       "        <td>-35.50000</td>\n",
       "        <td>39.30000</td>\n",
       "        <td>-2.93330</td>\n",
       "        <td>-30.66670</td>\n",
       "        <td>-0.60000</td>\n",
       "        <td>-30.66670</td>\n",
       "        <td>150.00000</td>\n",
       "        <td>23.00000</td>\n",
       "        <td>7.00000</td>\n",
       "        <td>45.06160</td>\n",
       "        <td>62.00000</td>\n",
       "        <td>24.00000</td>\n",
       "        <td>52.00000</td>\n",
       "        <td>24.00000</td>\n",
       "    </tr>\n",
       "    <tr>\n",
       "        <td>2</td>\n",
       "        <td>103149</td>\n",
       "        <td>-16.92080</td>\n",
       "        <td>6.75830</td>\n",
       "        <td>17.24060</td>\n",
       "        <td>1230.63450</td>\n",
       "        <td>4.10000</td>\n",
       "        <td>-35.10000</td>\n",
       "        <td>39.20000</td>\n",
       "        <td>-2.61670</td>\n",
       "        <td>-28.98330</td>\n",
       "        <td>-0.35000</td>\n",
       "        <td>-30.13330</td>\n",
       "        <td>140.00000</td>\n",
       "        <td>22.00000</td>\n",
       "        <td>7.00000</td>\n",
       "        <td>45.84400</td>\n",
       "        <td>58.00000</td>\n",
       "        <td>22.00000</td>\n",
       "        <td>49.00000</td>\n",
       "        <td>23.00000</td>\n",
       "    </tr>\n",
       "    <tr>\n",
       "        <td>3</td>\n",
       "        <td>103150</td>\n",
       "        <td>-17.19170</td>\n",
       "        <td>6.90000</td>\n",
       "        <td>17.64710</td>\n",
       "        <td>1234.91780</td>\n",
       "        <td>3.80000</td>\n",
       "        <td>-35.30000</td>\n",
       "        <td>39.10000</td>\n",
       "        <td>-2.81670</td>\n",
       "        <td>-21.51670</td>\n",
       "        <td>-0.53330</td>\n",
       "        <td>-30.36670</td>\n",
       "        <td>141.00000</td>\n",
       "        <td>22.00000</td>\n",
       "        <td>6.00000</td>\n",
       "        <td>43.26290</td>\n",
       "        <td>57.00000</td>\n",
       "        <td>23.00000</td>\n",
       "        <td>49.00000</td>\n",
       "        <td>24.00000</td>\n",
       "    </tr>\n",
       "</table>"
      ],
      "text/plain": [
       "[(1, 103148, Decimal('-17.32920'), Decimal('6.45830'), Decimal('16.43340'), Decimal('1239.56640'), Decimal('3.80000'), Decimal('-35.50000'), Decimal('39.30000'), Decimal('-2.93330'), Decimal('-30.66670'), Decimal('-0.60000'), Decimal('-30.66670'), Decimal('150.00000'), Decimal('23.00000'), Decimal('7.00000'), Decimal('45.06160'), Decimal('62.00000'), Decimal('24.00000'), Decimal('52.00000'), Decimal('24.00000')),\n",
       " (2, 103149, Decimal('-16.92080'), Decimal('6.75830'), Decimal('17.24060'), Decimal('1230.63450'), Decimal('4.10000'), Decimal('-35.10000'), Decimal('39.20000'), Decimal('-2.61670'), Decimal('-28.98330'), Decimal('-0.35000'), Decimal('-30.13330'), Decimal('140.00000'), Decimal('22.00000'), Decimal('7.00000'), Decimal('45.84400'), Decimal('58.00000'), Decimal('22.00000'), Decimal('49.00000'), Decimal('23.00000')),\n",
       " (3, 103150, Decimal('-17.19170'), Decimal('6.90000'), Decimal('17.64710'), Decimal('1234.91780'), Decimal('3.80000'), Decimal('-35.30000'), Decimal('39.10000'), Decimal('-2.81670'), Decimal('-21.51670'), Decimal('-0.53330'), Decimal('-30.36670'), Decimal('141.00000'), Decimal('22.00000'), Decimal('6.00000'), Decimal('43.26290'), Decimal('57.00000'), Decimal('23.00000'), Decimal('49.00000'), Decimal('24.00000'))]"
      ]
     },
     "execution_count": 49,
     "metadata": {},
     "output_type": "execute_result"
    }
   ],
   "source": [
    "%sql select * from nabioclimvars limit 3;"
   ]
  },
  {
   "cell_type": "code",
   "execution_count": 11,
   "metadata": {
    "collapsed": false
   },
   "outputs": [
    {
     "name": "stdout",
     "output_type": "stream",
     "text": [
      "3 rows affected.\n"
     ]
    },
    {
     "data": {
      "text/html": [
       "<table>\n",
       "    <tr>\n",
       "        <th>globalid</th>\n",
       "        <th>longitude</th>\n",
       "        <th>latitude</th>\n",
       "        <th>vegid</th>\n",
       "        <th>vegdescrip</th>\n",
       "    </tr>\n",
       "    <tr>\n",
       "        <td>6</td>\n",
       "        <td>-79.46900</td>\n",
       "        <td>82.81300</td>\n",
       "        <td>31</td>\n",
       "        <td>ice</td>\n",
       "    </tr>\n",
       "    <tr>\n",
       "        <td>7</td>\n",
       "        <td>-75.87900</td>\n",
       "        <td>82.81300</td>\n",
       "        <td>31</td>\n",
       "        <td>ice</td>\n",
       "    </tr>\n",
       "    <tr>\n",
       "        <td>8</td>\n",
       "        <td>-72.28800</td>\n",
       "        <td>82.81300</td>\n",
       "        <td>31</td>\n",
       "        <td>ice</td>\n",
       "    </tr>\n",
       "</table>"
      ],
      "text/plain": [
       "[(6, Decimal('-79.46900'), Decimal('82.81300'), 31, u'ice'),\n",
       " (7, Decimal('-75.87900'), Decimal('82.81300'), 31, u'ice'),\n",
       " (8, Decimal('-72.28800'), Decimal('82.81300'), 31, u'ice')]"
      ]
     },
     "execution_count": 11,
     "metadata": {},
     "output_type": "execute_result"
    }
   ],
   "source": [
    "%sql select * from navegcovermatthews limit 3;"
   ]
  },
  {
   "cell_type": "code",
   "execution_count": 12,
   "metadata": {
    "collapsed": false
   },
   "outputs": [
    {
     "name": "stdout",
     "output_type": "stream",
     "text": [
      "3 rows affected.\n"
     ]
    },
    {
     "data": {
      "text/html": [
       "<table>\n",
       "    <tr>\n",
       "        <th>id</th>\n",
       "        <th>longitude</th>\n",
       "        <th>latitude</th>\n",
       "        <th>jan</th>\n",
       "        <th>feb</th>\n",
       "        <th>mar</th>\n",
       "        <th>apr</th>\n",
       "        <th>may</th>\n",
       "        <th>jun</th>\n",
       "        <th>jul</th>\n",
       "        <th>aug</th>\n",
       "        <th>sep</th>\n",
       "        <th>oct</th>\n",
       "        <th>nov</th>\n",
       "        <th>dec</th>\n",
       "        <th>annualprecip</th>\n",
       "    </tr>\n",
       "    <tr>\n",
       "        <td>6</td>\n",
       "        <td>-79.46900</td>\n",
       "        <td>82.81348</td>\n",
       "        <td>6.80000</td>\n",
       "        <td>4.40000</td>\n",
       "        <td>6.90000</td>\n",
       "        <td>5.00000</td>\n",
       "        <td>8.10000</td>\n",
       "        <td>7.70000</td>\n",
       "        <td>16.20000</td>\n",
       "        <td>20.50000</td>\n",
       "        <td>16.10000</td>\n",
       "        <td>10.00000</td>\n",
       "        <td>6.90000</td>\n",
       "        <td>5.50000</td>\n",
       "        <td>113.80000</td>\n",
       "    </tr>\n",
       "    <tr>\n",
       "        <td>7</td>\n",
       "        <td>-75.87860</td>\n",
       "        <td>82.81348</td>\n",
       "        <td>7.30000</td>\n",
       "        <td>4.60000</td>\n",
       "        <td>7.30000</td>\n",
       "        <td>5.30000</td>\n",
       "        <td>8.60000</td>\n",
       "        <td>8.10000</td>\n",
       "        <td>16.80000</td>\n",
       "        <td>20.70000</td>\n",
       "        <td>17.10000</td>\n",
       "        <td>10.10000</td>\n",
       "        <td>7.00000</td>\n",
       "        <td>6.00000</td>\n",
       "        <td>119.00000</td>\n",
       "    </tr>\n",
       "    <tr>\n",
       "        <td>8</td>\n",
       "        <td>-72.28820</td>\n",
       "        <td>82.81348</td>\n",
       "        <td>7.70000</td>\n",
       "        <td>4.70000</td>\n",
       "        <td>7.70000</td>\n",
       "        <td>5.80000</td>\n",
       "        <td>9.10000</td>\n",
       "        <td>8.70000</td>\n",
       "        <td>17.70000</td>\n",
       "        <td>21.10000</td>\n",
       "        <td>18.50000</td>\n",
       "        <td>10.50000</td>\n",
       "        <td>7.10000</td>\n",
       "        <td>6.50000</td>\n",
       "        <td>125.10000</td>\n",
       "    </tr>\n",
       "</table>"
      ],
      "text/plain": [
       "[(6, Decimal('-79.46900'), Decimal('82.81348'), Decimal('6.80000'), Decimal('4.40000'), Decimal('6.90000'), Decimal('5.00000'), Decimal('8.10000'), Decimal('7.70000'), Decimal('16.20000'), Decimal('20.50000'), Decimal('16.10000'), Decimal('10.00000'), Decimal('6.90000'), Decimal('5.50000'), Decimal('113.80000')),\n",
       " (7, Decimal('-75.87860'), Decimal('82.81348'), Decimal('7.30000'), Decimal('4.60000'), Decimal('7.30000'), Decimal('5.30000'), Decimal('8.60000'), Decimal('8.10000'), Decimal('16.80000'), Decimal('20.70000'), Decimal('17.10000'), Decimal('10.10000'), Decimal('7.00000'), Decimal('6.00000'), Decimal('119.00000')),\n",
       " (8, Decimal('-72.28820'), Decimal('82.81348'), Decimal('7.70000'), Decimal('4.70000'), Decimal('7.70000'), Decimal('5.80000'), Decimal('9.10000'), Decimal('8.70000'), Decimal('17.70000'), Decimal('21.10000'), Decimal('18.50000'), Decimal('10.50000'), Decimal('7.10000'), Decimal('6.50000'), Decimal('125.10000'))]"
      ]
     },
     "execution_count": 12,
     "metadata": {},
     "output_type": "execute_result"
    }
   ],
   "source": [
    "%sql select * from naprecipwilmott limit 3;"
   ]
  },
  {
   "cell_type": "markdown",
   "metadata": {},
   "source": [
    "----"
   ]
  },
  {
   "cell_type": "markdown",
   "metadata": {},
   "source": [
    "## 1. What is the average altitude where vegetation type is \"ice\"?"
   ]
  },
  {
   "cell_type": "code",
   "execution_count": 65,
   "metadata": {
    "collapsed": false
   },
   "outputs": [
    {
     "name": "stdout",
     "output_type": "stream",
     "text": [
      "1 rows affected.\n",
      "CPU times: user 4.36 ms, sys: 6.08 ms, total: 10.4 ms\n",
      "Wall time: 268 ms\n"
     ]
    },
    {
     "data": {
      "text/html": [
       "<table>\n",
       "    <tr>\n",
       "        <th>avg</th>\n",
       "    </tr>\n",
       "    <tr>\n",
       "        <td>903.6605504587155963</td>\n",
       "    </tr>\n",
       "</table>"
      ],
      "text/plain": [
       "[(Decimal('903.6605504587155963'),)]"
      ]
     },
     "execution_count": 65,
     "metadata": {},
     "output_type": "execute_result"
    }
   ],
   "source": [
    "%%sql\n",
    "SELECT AVG(sub.altitude)\n",
    "FROM (SELECT altitude, vegdescrip FROM naaltterrainbase AS terr INNER JOIN navegcovermatthews as veg\n",
    "      ON( ABS(terr.longitude - veg.longitude) <= 0.001 AND ABS(terr.latitude - veg.latitude) <= 0.001))\n",
    "AS sub\n",
    "WHERE vegdescrip = 'ice';"
   ]
  },
  {
   "cell_type": "markdown",
   "metadata": {},
   "source": [
    "## 2. What is the average altitude for each vegetation type?"
   ]
  },
  {
   "cell_type": "code",
   "execution_count": 68,
   "metadata": {
    "collapsed": false
   },
   "outputs": [
    {
     "name": "stdout",
     "output_type": "stream",
     "text": [
      "25 rows affected.\n"
     ]
    },
    {
     "data": {
      "text/html": [
       "<table>\n",
       "    <tr>\n",
       "        <th>vegdescrip</th>\n",
       "        <th>avg</th>\n",
       "    </tr>\n",
       "    <tr>\n",
       "        <td>evergreen broadleaved sclerophyllous forest</td>\n",
       "        <td>702.3636363636363636</td>\n",
       "    </tr>\n",
       "    <tr>\n",
       "        <td>tropical evergreen rainforest</td>\n",
       "        <td>490.6372549019607843</td>\n",
       "    </tr>\n",
       "    <tr>\n",
       "        <td>meadow</td>\n",
       "        <td>1278.8956521739130435</td>\n",
       "    </tr>\n",
       "    <tr>\n",
       "        <td>tropical/subtropical drought-deciduous woodland</td>\n",
       "        <td>1462.4827586206896552</td>\n",
       "    </tr>\n",
       "    <tr>\n",
       "        <td>tropical/subtropical drought-deciduous forest</td>\n",
       "        <td>97.5555555555555556</td>\n",
       "    </tr>\n",
       "    <tr>\n",
       "        <td>evergreen needleleaved woodland</td>\n",
       "        <td>842.9607635206786850</td>\n",
       "    </tr>\n",
       "    <tr>\n",
       "        <td>xeromorphic shrubland/dwarf shrubland</td>\n",
       "        <td>1164.9323943661971831</td>\n",
       "    </tr>\n",
       "    <tr>\n",
       "        <td>evergreen broadleaved shrubland/thick</td>\n",
       "        <td>1641.9090909090909091</td>\n",
       "    </tr>\n",
       "    <tr>\n",
       "        <td>tall grassland</td>\n",
       "        <td>420.7457627118644068</td>\n",
       "    </tr>\n",
       "    <tr>\n",
       "        <td>tropical/subtropical evergreen needle-leaved forest</td>\n",
       "        <td>278.6000000000000000</td>\n",
       "    </tr>\n",
       "    <tr>\n",
       "        <td>medium grassland</td>\n",
       "        <td>735.2289156626506024</td>\n",
       "    </tr>\n",
       "    <tr>\n",
       "        <td>drought-deciduous shrubland/thicket</td>\n",
       "        <td>1128.1201923076923077</td>\n",
       "    </tr>\n",
       "    <tr>\n",
       "        <td>tall/medium/short grassland</td>\n",
       "        <td>875.6358974358974359</td>\n",
       "    </tr>\n",
       "    <tr>\n",
       "        <td>cold-deciduous forest</td>\n",
       "        <td>262.9923136049192929</td>\n",
       "    </tr>\n",
       "    <tr>\n",
       "        <td>evergreen broadleaved sclerophyllous woodland</td>\n",
       "        <td>1284.8750000000000000</td>\n",
       "    </tr>\n",
       "    <tr>\n",
       "        <td>xeromorphic forest/woodland</td>\n",
       "        <td>896.5686274509803922</td>\n",
       "    </tr>\n",
       "    <tr>\n",
       "        <td>trop/subtropical evergreen seasonal broad-leaved forest</td>\n",
       "        <td>638.0896860986547085</td>\n",
       "    </tr>\n",
       "    <tr>\n",
       "        <td>forb formations</td>\n",
       "        <td>826.0640000000000000</td>\n",
       "    </tr>\n",
       "    <tr>\n",
       "        <td>arctic/alpine tundra</td>\n",
       "        <td>336.2092739475289811</td>\n",
       "    </tr>\n",
       "    <tr>\n",
       "        <td>tempierate/subpolar evergreen needle-leaved forest</td>\n",
       "        <td>603.8558558558558559</td>\n",
       "    </tr>\n",
       "    <tr>\n",
       "        <td>desert</td>\n",
       "        <td>530.0294117647058824</td>\n",
       "    </tr>\n",
       "    <tr>\n",
       "        <td>ice</td>\n",
       "        <td>903.6605504587155963</td>\n",
       "    </tr>\n",
       "    <tr>\n",
       "        <td>cold-deciduous subalpine/subpolar shrubland/dwarf shrub</td>\n",
       "        <td>554.0000000000000000</td>\n",
       "    </tr>\n",
       "    <tr>\n",
       "        <td>cold-deciduous woodland</td>\n",
       "        <td>608.9344262295081967</td>\n",
       "    </tr>\n",
       "    <tr>\n",
       "        <td>evergreen needleleaved or microphyllous shrubland/thicket</td>\n",
       "        <td>1879.3033707865168539</td>\n",
       "    </tr>\n",
       "</table>"
      ],
      "text/plain": [
       "[(u'evergreen broadleaved sclerophyllous forest', Decimal('702.3636363636363636')),\n",
       " (u'tropical evergreen rainforest', Decimal('490.6372549019607843')),\n",
       " (u'meadow', Decimal('1278.8956521739130435')),\n",
       " (u'tropical/subtropical drought-deciduous woodland', Decimal('1462.4827586206896552')),\n",
       " (u'tropical/subtropical drought-deciduous forest', Decimal('97.5555555555555556')),\n",
       " (u'evergreen needleleaved woodland', Decimal('842.9607635206786850')),\n",
       " (u'xeromorphic shrubland/dwarf shrubland', Decimal('1164.9323943661971831')),\n",
       " (u'evergreen broadleaved shrubland/thick', Decimal('1641.9090909090909091')),\n",
       " (u'tall grassland', Decimal('420.7457627118644068')),\n",
       " (u'tropical/subtropical evergreen needle-leaved forest', Decimal('278.6000000000000000')),\n",
       " (u'medium grassland', Decimal('735.2289156626506024')),\n",
       " (u'drought-deciduous shrubland/thicket', Decimal('1128.1201923076923077')),\n",
       " (u'tall/medium/short grassland', Decimal('875.6358974358974359')),\n",
       " (u'cold-deciduous forest', Decimal('262.9923136049192929')),\n",
       " (u'evergreen broadleaved sclerophyllous woodland', Decimal('1284.8750000000000000')),\n",
       " (u'xeromorphic forest/woodland', Decimal('896.5686274509803922')),\n",
       " (u'trop/subtropical evergreen seasonal broad-leaved forest', Decimal('638.0896860986547085')),\n",
       " (u'forb formations', Decimal('826.0640000000000000')),\n",
       " (u'arctic/alpine tundra', Decimal('336.2092739475289811')),\n",
       " (u'tempierate/subpolar evergreen needle-leaved forest', Decimal('603.8558558558558559')),\n",
       " (u'desert', Decimal('530.0294117647058824')),\n",
       " (u'ice', Decimal('903.6605504587155963')),\n",
       " (u'cold-deciduous subalpine/subpolar shrubland/dwarf shrub', Decimal('554.0000000000000000')),\n",
       " (u'cold-deciduous woodland', Decimal('608.9344262295081967')),\n",
       " (u'evergreen needleleaved or microphyllous shrubland/thicket', Decimal('1879.3033707865168539'))]"
      ]
     },
     "execution_count": 68,
     "metadata": {},
     "output_type": "execute_result"
    }
   ],
   "source": [
    "%%sql\n",
    "SELECT veg.vegdescrip, AVG(terr.altitude)\n",
    "FROM navegcovermatthews as veg, naaltterrainbase as terr\n",
    "WHERE veg.globalid = terr.id\n",
    "GROUP BY veg.vegdescrip"
   ]
  },
  {
   "cell_type": "markdown",
   "metadata": {},
   "source": [
    "## 3. What is the most frequent vegetation type by altitude?"
   ]
  },
  {
   "cell_type": "code",
   "execution_count": 110,
   "metadata": {
    "collapsed": false
   },
   "outputs": [
    {
     "name": "stdout",
     "output_type": "stream",
     "text": [
      "Done.\n",
      "(psycopg2.ProgrammingError) missing FROM-clause entry for table \"veg\"\n",
      "LINE 2:   SELECT veg.vegdescrip AS result\n",
      "                 ^\n",
      " [SQL: 'CREATE FUNCTION most_freq_vegdescrip(h numeric) RETURNS TEXT AS $BODY$\\n  SELECT veg.vegdescrip AS result\\n$BODY$ LANGUAGE SQL;']\n"
     ]
    }
   ],
   "source": [
    "%%sql\n",
    "DROP FUNCTION IF EXISTS most_freq_vegdescrip(h numeric);\n",
    "\n",
    "CREATE FUNCTION most_freq_vegdescrip(h numeric) RETURNS TEXT AS $BODY$\n",
    "  SELECT veg.vegdescrip AS result\n",
    "  FROM naaltterrainbase AS terr, navegcovermatthews AS veg\n",
    "  WHERE terr.id = veg.globalid AND terr.altitude = h\n",
    "  GROUP BY veg.vegdescrip\n",
    "  ORDER BY COUNT(veg.vegdescrip) DESC\n",
    "  LIMIT 1;\n",
    "$BODY$ LANGUAGE SQL;"
   ]
  },
  {
   "cell_type": "code",
   "execution_count": 109,
   "metadata": {
    "collapsed": false
   },
   "outputs": [
    {
     "name": "stdout",
     "output_type": "stream",
     "text": [
      "3 rows affected.\n",
      "CPU times: user 3.88 ms, sys: 0 ns, total: 3.88 ms\n",
      "Wall time: 12.5 s\n"
     ]
    },
    {
     "data": {
      "text/html": [
       "<table>\n",
       "    <tr>\n",
       "        <th>altitude</th>\n",
       "        <th>most_freq_vegdescrip</th>\n",
       "    </tr>\n",
       "    <tr>\n",
       "        <td>523.00000</td>\n",
       "        <td>cold-deciduous forest</td>\n",
       "    </tr>\n",
       "    <tr>\n",
       "        <td>843.00000</td>\n",
       "        <td>tall/medium/short grassland</td>\n",
       "    </tr>\n",
       "    <tr>\n",
       "        <td>281.00000</td>\n",
       "        <td>evergreen needleleaved woodland</td>\n",
       "    </tr>\n",
       "</table>"
      ],
      "text/plain": [
       "[(Decimal('523.00000'), u'cold-deciduous forest'),\n",
       " (Decimal('843.00000'), u'tall/medium/short grassland'),\n",
       " (Decimal('281.00000'), u'evergreen needleleaved woodland')]"
      ]
     },
     "execution_count": 109,
     "metadata": {},
     "output_type": "execute_result"
    }
   ],
   "source": [
    "%%time\n",
    "%%sql\n",
    "SELECT DISTINCT altitude, most_freq_vegdescrip(altitude)\n",
    "FROM naaltterrainbase\n",
    "LIMIT 3;"
   ]
  },
  {
   "cell_type": "markdown",
   "metadata": {},
   "source": [
    "## 4. Is there a correlation between altitude and precipitation?"
   ]
  },
  {
   "cell_type": "markdown",
   "metadata": {},
   "source": [
    "(It's enough to show with a plot that a correlation exists or not.)"
   ]
  },
  {
   "cell_type": "code",
   "execution_count": 82,
   "metadata": {
    "collapsed": false
   },
   "outputs": [
    {
     "name": "stdout",
     "output_type": "stream",
     "text": [
      "8509 rows affected.\n"
     ]
    }
   ],
   "source": [
    "data = %sql SELECT terr.altitude, precip.annualprecip FROM naaltterrainbase as terr, naprecipwilmott as precip WHERE terr.id = precip.id;"
   ]
  },
  {
   "cell_type": "code",
   "execution_count": 101,
   "metadata": {
    "collapsed": false
   },
   "outputs": [
    {
     "data": {
      "text/plain": [
       "<matplotlib.text.Text at 0x7f9324910310>"
      ]
     },
     "execution_count": 101,
     "metadata": {},
     "output_type": "execute_result"
    },
    {
     "data": {
      "image/png": "[encoded data removed]",
      "text/plain": [
       "<matplotlib.figure.Figure at 0x7f9324d8a690>"
      ]
     },
     "metadata": {},
     "output_type": "display_data"
    }
   ],
   "source": [
    "x, y = zip(*data)\n",
    "x, y = np.array(map(float, x)), np.array(map(float, y))\n",
    "sea.regplot(x, y, scatter=True, fit_reg=False)\n",
    "plt.xlabel('Altitude')\n",
    "plt.ylabel('Precipitation')"
   ]
  }
 ],
 "metadata": {
  "kernelspec": {
   "display_name": "Python 2",
   "language": "python",
   "name": "python2"
  },
  "language_info": {
   "codemirror_mode": {
    "name": "ipython",
    "version": 2
   },
   "file_extension": ".py",
   "mimetype": "text/x-python",
   "name": "python",
   "nbconvert_exporter": "python",
   "pygments_lexer": "ipython2",
   "version": "2.7.13"
  }
 },
 "nbformat": 4,
 "nbformat_minor": 0
}
