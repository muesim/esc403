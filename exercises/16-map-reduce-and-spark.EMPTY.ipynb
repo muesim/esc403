{
 "cells": [
  {
   "cell_type": "markdown",
   "metadata": {},
   "source": [
    "<a rel=\"license\" href=\"http://creativecommons.org/licenses/by-sa/4.0/\"><img alt=\"Creative Commons License\" style=\"border-width:0\" src=\"https://i.creativecommons.org/l/by-sa/4.0/80x15.png\" /></a><div align=\"center\">This work is licensed under a <a rel=\"license\" href=\"http://creativecommons.org/licenses/by-sa/4.0/\">Creative Commons Attribution-ShareAlike 4.0 International License</a>.</div>\n",
    "\n",
    "----"
   ]
  },
  {
   "cell_type": "markdown",
   "metadata": {},
   "source": [
    "# Preparing the environment"
   ]
  },
  {
   "cell_type": "markdown",
   "metadata": {},
   "source": [
    "**Note:** This notebook has to be run using the \"Python 2 with Spark\" kernel on the ESC403 cluster.  If you have started it with another kernel (e.g., \"Python 2\") restart it by clicking on the menu bar: *Kernel* $\\to$ *Change kernel* $\\to$ *Python 2 with Spark*.  The Spark-enabled kernel will take a noticeable time to start; this is expected."
   ]
  },
  {
   "cell_type": "markdown",
   "metadata": {},
   "source": [
    "## Graphics and plotting"
   ]
  },
  {
   "cell_type": "markdown",
   "metadata": {},
   "source": [
    "The following block of code initializes the Python plotting library [matplotlib](http://matplotlib.org/gallery.html) and configures it to show figures embedded in the notebook (as opposed to opening a new window for each figure):"
   ]
  },
  {
   "cell_type": "code",
   "execution_count": 1,
   "metadata": {
    "collapsed": true
   },
   "outputs": [],
   "source": [
    "%matplotlib inline\n",
    "import matplotlib\n",
    "import matplotlib.pyplot as plt"
   ]
  },
  {
   "cell_type": "markdown",
   "metadata": {},
   "source": [
    "Set the default size and style of the plot.  (Plots are styled to [look like R's `ggplot`](http://tonysyu.github.io/mpltools/auto_examples/style/plot_ggplot.html) library.)"
   ]
  },
  {
   "cell_type": "code",
   "execution_count": 2,
   "metadata": {
    "collapsed": true
   },
   "outputs": [],
   "source": [
    "matplotlib.style.use('ggplot')\n",
    "matplotlib.rcParams['figure.figsize'] = (16, 9)"
   ]
  },
  {
   "cell_type": "markdown",
   "metadata": {},
   "source": [
    "## Spark Context"
   ]
  },
  {
   "cell_type": "markdown",
   "metadata": {},
   "source": [
    "The *Python 2 with Spark* kernel already performs all necessary steps to properly initialize [Spark][1].  A global [SparkContext][2] is available in variable `sc`:\n",
    "\n",
    "[1]: http://spark.apache.org/\n",
    "[2]: http://spark.apache.org/docs/latest/programming-guide.html#initializing-spark"
   ]
  },
  {
   "cell_type": "code",
   "execution_count": 3,
   "metadata": {
    "collapsed": false
   },
   "outputs": [
    {
     "data": {
      "text/plain": [
       "<pyspark.context.SparkContext at 0x7f81ac71d9d0>"
      ]
     },
     "execution_count": 3,
     "metadata": {},
     "output_type": "execute_result"
    }
   ],
   "source": [
    "# (already existing) Spark Context\n",
    "sc"
   ]
  },
  {
   "cell_type": "markdown",
   "metadata": {},
   "source": [
    "---"
   ]
  },
  {
   "cell_type": "markdown",
   "metadata": {},
   "source": [
    "# 1. Compute $\\pi$ using Map/Reduce"
   ]
  },
  {
   "cell_type": "markdown",
   "metadata": {},
   "source": [
    "A quasi-Monte Carlo method for computing $\\pi$ is the following: we \"sample\" the area of the unit circle (which is exactly $\\pi$) by counting the number of randomly-generated coordinate pairs that fall within the unit circle.  Explicitly:\n",
    "\n",
    "- pick $N$ random points in the square $[-1,+1] \\times [-1,+1]$ (generate both coordinates uniformly at random)\n",
    "- count the number $P$ of points that fall into the unit circle $\\{ (x,y) | x^2+y^2 < 1 \\}$\n",
    "- for large enough $N$, the ratio $P/N$ approximates the area of the unit circle, i.e. $\\pi$\n",
    "\n",
    "A detailed explanation of the method can be found [here](http://mathfaculty.fullerton.edu/mathews/n2003/montecarlopimod.html)."
   ]
  },
  {
   "cell_type": "markdown",
   "metadata": {},
   "source": [
    "1. Write Python code that runs the above algorithm.  Time its execution: how much does it take to get the result for $N = 16´000´000$?\n",
    "\n",
    "2. Can you think of a way of parallelizing the algorithm above using Spark's Map/Reduce support?  (*Hint:* it may help to formulate/rewrite the algorithm in terms of `map`/`filter`/`reduce` Python built-ins.)"
   ]
  },
  {
   "cell_type": "code",
   "execution_count": 4,
   "metadata": {
    "collapsed": false
   },
   "outputs": [
    {
     "name": "stdout",
     "output_type": "stream",
     "text": [
      "Calculated Pi: 3.141\n",
      "Error: 0.000\n",
      "CPU times: user 6.36 s, sys: 420 ms, total: 6.78 s\n",
      "Wall time: 6.93 s\n"
     ]
    }
   ],
   "source": [
    "%%time\n",
    "import numpy as np\n",
    "N = 16000000\n",
    "npoints = 0.\n",
    "x = np.random.uniform(-1, 1, N)\n",
    "y = np.random.uniform(-1, 1, N)\n",
    "z = x + 1j*y\n",
    "for w in z:\n",
    "    if abs(w) < 1:\n",
    "        npoints += 1       \n",
    "res = 4*(npoints/N) # Factor of four due to the ratio of the two areas\n",
    "err = abs(np.pi - res)\n",
    "print('Calculated Pi: {:.3f}'.format(res))\n",
    "print('Error: {:.3f}'.format(err))"
   ]
  },
  {
   "cell_type": "code",
   "execution_count": 5,
   "metadata": {
    "collapsed": false
   },
   "outputs": [
    {
     "name": "stdout",
     "output_type": "stream",
     "text": [
      "Calculated Pi: 3.142\n",
      "Error: 0.000\n",
      "CPU times: user 5.72 s, sys: 417 ms, total: 6.14 s\n",
      "Wall time: 6.17 s\n"
     ]
    }
   ],
   "source": [
    "%%time\n",
    "\n",
    "N = 16000000\n",
    "x = np.random.uniform(-1, 1, N)\n",
    "y = np.random.uniform(-1, 1, N)\n",
    "z = x + 1j*y\n",
    "\n",
    "temp = filter(lambda x: abs(x) < 1, z)\n",
    "res = 4.*len(temp)/N\n",
    "err = abs(np.pi - res)\n",
    "print('Calculated Pi: {:.3f}'.format(res))\n",
    "print('Error: {:.3f}'.format(err))"
   ]
  },
  {
   "cell_type": "code",
   "execution_count": 6,
   "metadata": {
    "collapsed": false
   },
   "outputs": [],
   "source": [
    "from random import random\n",
    "\n",
    "N = 16000000\n",
    "\n",
    "def point(_):\n",
    "    x = random()\n",
    "    y = random()\n",
    "    return (x, y)"
   ]
  },
  {
   "cell_type": "code",
   "execution_count": 8,
   "metadata": {
    "collapsed": false
   },
   "outputs": [
    {
     "name": "stdout",
     "output_type": "stream",
     "text": [
      "Calculated Pi: 3.142\n",
      "Error: 0.000\n",
      "CPU times: user 856 ms, sys: 336 ms, total: 1.19 s\n",
      "Wall time: 7.85 s\n"
     ]
    }
   ],
   "source": [
    "%%time\n",
    "arr = range(N)\n",
    "partitions = 16\n",
    "rdd = sc.parallelize(arr, partitions)\n",
    "intermediate1 = rdd.map(point)\n",
    "intermediate2 = intermediate1.filter(lambda (x, y): x**2 + y**2 < 1)\n",
    "P = intermediate2.count()\n",
    "res = 4.*P/N\n",
    "err = abs(np.pi - res)\n",
    "print('Calculated Pi: {:.3f}'.format(res))\n",
    "print('Error: {:.3f}'.format(err))"
   ]
  },
  {
   "cell_type": "markdown",
   "metadata": {},
   "source": [
    "# 2. Word count"
   ]
  },
  {
   "cell_type": "markdown",
   "metadata": {},
   "source": [
    "1. Write a PySpark function to count occurrences of each word in a given file; the function should return a Python dictionary, mapping a word (a string) to the (integer) count of its occurrences.  In this context, a \"word\" is defined as a non-empty sequence of letters; i.e., words are separated by white space and punctuation signs. \n",
    "\n",
    "2. Print the top-10 words of each test dataset below.\n",
    "\n",
    "The ESC403 cluster provides two test datasets:\n",
    "\n",
    "* the complete works by William Shakespeare, available as `hdfs:///data/shakespeare.txt`\n",
    "* \"Oliver Twist\" by Charles Dickens, available as `hdfs:///data/dickens.txt`\n",
    "\n",
    "*Hint:* You can make a Spark RDD containing the *lines* of a text file with the following code::\n",
    "\n",
    "    text = sc.textFile('hdfs:///data/dickens.txt')\n",
    "\n",
    "(\"Word count\" plays the role of the introductory exercise \"Hello, world!\" in the Map/Reduce context; it was popularized by the [original Map/Reduce paper by Dean and Ghemawat](https://research.google.com/archive/mapreduce-osdi04.pdf).)"
   ]
  },
  {
   "cell_type": "code",
   "execution_count": 17,
   "metadata": {
    "collapsed": true
   },
   "outputs": [],
   "source": [
    "import re\n",
    "punctuation = re.compile(r'[^\\w]', re.M)\n",
    "\n",
    "from operator import add\n",
    "\n",
    "def wordcount(filename):\n",
    "    lines1 = sc.textFile('hdfs://' + filename)\n",
    "    lines2 = lines1.map(lambda line: punctuation.sub(' ', line).lower())\n",
    "    words1 = lines2.flatMap(lambda line: line.lower().split())\n",
    "    words2 = words1.map(lambda word: (word, 1))\n",
    "    cnts = words2.reduceByKey(add)\n",
    "    return cnts"
   ]
  },
  {
   "cell_type": "code",
   "execution_count": 30,
   "metadata": {
    "collapsed": false
   },
   "outputs": [
    {
     "name": "stdout",
     "output_type": "stream",
     "text": [
      "Oliver Twist word counts: [(u'the', 9806), (u'and', 5498), (u'to', 4041), (u'of', 3996), (u'a', 3843)]\n",
      "\n",
      "\n",
      "Complete works by William Shakespeare word counts: [(u'the', 27843), (u'and', 26847), (u'i', 22538), (u'to', 19882), (u'of', 18307)]\n",
      "\n",
      "\n",
      "CPU times: user 27 ms, sys: 291 µs, total: 27.3 ms\n",
      "Wall time: 1.46 s\n"
     ]
    }
   ],
   "source": [
    "%%time\n",
    "dickens = '/data/dickens.txt'\n",
    "shakespeare = '/data/shakespeare.txt'\n",
    "\n",
    "wc1 = wordcount(dickens)\n",
    "wc2 = wordcount(shakespeare)\n",
    "\n",
    "\n",
    "print('Oliver Twist word counts: {}'.format(wc1.takeOrdered(5, lambda x: -x[1])))\n",
    "print '\\n'\n",
    "print('Complete works by William Shakespeare word counts: {}'.format(wc2.takeOrdered(5, lambda x: -x[1])))\n",
    "print '\\n'"
   ]
  },
  {
   "cell_type": "markdown",
   "metadata": {},
   "source": [
    "# 3. Word differencies"
   ]
  },
  {
   "cell_type": "markdown",
   "metadata": {},
   "source": [
    "How can we find word usage dissimilarity?  Building upon the previous exercise, find and print the top $N$ words occurring in one dataset that do not occur in the other."
   ]
  },
  {
   "cell_type": "code",
   "execution_count": 31,
   "metadata": {
    "collapsed": false
   },
   "outputs": [
    {
     "data": {
      "text/plain": [
       "[(u'looking', (1.3617750690410437, 0.17076929484776543)),\n",
       " (u'locked', (0.1809351490334254, 0.008330209504769044)),\n",
       " (u'bates', (0.8951528425864204, 0.045816152276229746)),\n",
       " (u'pocket', (0.5999428625845158, 0.1457786663334583)),\n",
       " (u'rolled', (0.12379773354918579, 0.004165104752384522))]"
      ]
     },
     "execution_count": 31,
     "metadata": {},
     "output_type": "execute_result"
    }
   ],
   "source": [
    "def normalise_by_total_count(wc):\n",
    "    tot_words = wc.count()\n",
    "    wfreq = wc.map(lambda (k, v): (k, 100.0*v/tot_words))\n",
    "    return wfreq\n",
    "\n",
    "wf1 = normalise_by_total_count(wc1)\n",
    "wf2 = normalise_by_total_count(wc2)\n",
    "wf = wf1.join(wf2)\n",
    "wf.filter(lambda (k, (v1, v2)): v1 - v2 > 0.1).take(5)"
   ]
  },
  {
   "cell_type": "markdown",
   "metadata": {},
   "source": [
    "# 4. Test Zipf's law"
   ]
  },
  {
   "cell_type": "markdown",
   "metadata": {},
   "source": [
    "Zipf's law asserts that, when words in a corpus are ranked by frequency, frequency is (approximately) inversely proportional to rank.  For example, the most frequent word (rank 1) will be approximately 5 times as frequent as the 5th ranked one.\n",
    "\n",
    "Test Zipf's law by computing and plotting the relative frequency of the 100 most frequent words in each dataset."
   ]
  },
  {
   "cell_type": "code",
   "execution_count": 38,
   "metadata": {
    "collapsed": false
   },
   "outputs": [],
   "source": [
    "import numpy as np\n",
    "xmax = 1000\n",
    "y = 1.0/np.arange(1, xmax)\n",
    "\n",
    "top_words_with_count1 = wc1.top(xmax, lambda(k, v): v)\n",
    "top_freq1 = float(top_words_with_count1[0][1])\n",
    "freq1 = np.array([(occurences / top_freq1) for (word, occurences) in top_words_with_count1])\n",
    "\n",
    "top_words_with_count2 = wc2.top(xmax, lambda(k, v): v)\n",
    "top_freq2 = float(top_words_with_count2[0][1])\n",
    "freq2 = np.array([(occurences / top_freq2) for (word, occurences) in top_words_with_count2])"
   ]
  },
  {
   "cell_type": "code",
   "execution_count": 39,
   "metadata": {
    "collapsed": false
   },
   "outputs": [
    {
     "data": {
      "image/png": "[encoded data removed]",
      "text/plain": [
       "<matplotlib.figure.Figure at 0x7f8198c4e990>"
      ]
     },
     "metadata": {},
     "output_type": "display_data"
    }
   ],
   "source": [
    "xmax_display = 100\n",
    "xs = np.arange(1, xmax_display+1)\n",
    "\n",
    "plt.figure(facecolor='lavender')\n",
    "plt.plot(xs, y[:xmax_display], color='orange', label='ideal Zipf')\n",
    "plt.plot(xs, freq1[:xmax_display], color='darkblue', label='Dickens')\n",
    "plt.plot(xs, freq2[:xmax_display], color='forestgreen', label='Shakespeare')\n",
    "plt.legend()\n",
    "plt.xlabel('Rank')\n",
    "plt.ylabel('Relative Frequency')\n",
    "plt.title('Relative word freqency in different text corpora')\n",
    "plt.show()"
   ]
  }
 ],
 "metadata": {
  "kernelspec": {
   "display_name": "Python 2 with Spark",
   "language": "python",
   "name": "pyspark2"
  },
  "language_info": {
   "codemirror_mode": {
    "name": "ipython",
    "version": 2
   },
   "file_extension": ".py",
   "mimetype": "text/x-python",
   "name": "python",
   "nbconvert_exporter": "python",
   "pygments_lexer": "ipython2",
   "version": "2.7.13"
  }
 },
 "nbformat": 4,
 "nbformat_minor": 0
}
